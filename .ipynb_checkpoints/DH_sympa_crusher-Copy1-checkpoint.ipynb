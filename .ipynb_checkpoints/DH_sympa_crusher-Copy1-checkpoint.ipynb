{
 "cells": [
  {
   "cell_type": "code",
   "execution_count": 10,
   "metadata": {
    "collapsed": true
   },
   "outputs": [],
   "source": [
    "#some imports\n",
    "from bs4 import BeautifulSoup\n",
    "from dateutil import parser\n",
    "#from itertools import takewhile\n",
    "import lxml.html\n",
    "import urllib\n",
    "import re,os"
   ]
  },
  {
   "cell_type": "code",
   "execution_count": 53,
   "metadata": {
    "collapsed": true
   },
   "outputs": [],
   "source": [
    "def read_html_pages_in_dir(pages_dir):\n",
    "    bz=[]\n",
    "    #rootdir=\"./DHFR_sample/\"\n",
    "    for subdir, dirs, files in os.walk(pages_dir):\n",
    "\n",
    "        for file in files:\n",
    "         if file.endswith('.html') == True  and file != (\"index.html\"): \n",
    "            \n",
    "            # les index.html sont des recap, on pourrait les compter pour s'assurer du nombre de messages\n",
    "                \n",
    "                \n",
    "                by=[]\n",
    "                filename=os.path.join(subdir, file)\n",
    "                soup=BeautifulSoup(open(filename, 'r').read(),'lxml')#, 'html.parser') \n",
    "                #RECUPERER LES TITRES DES MESSAGES\n",
    "                \n",
    "                \n",
    "                for wrapper in soup.findAll('ul'):\n",
    "                    tomato = wrapper.find(string=re.compile(\": \\[DH\\]\"))\n",
    "                    tea = None\n",
    "                    if (wrapper.strong):\n",
    "                          #RECUPERER LES AUTeurs DES MESSAGES\n",
    "                        tea = wrapper.strong.parent\n",
    "                        \n",
    "                    \n",
    "                    #for tomato in wrapper.find_all('li', string=re.compile(\"DH\") ):\n",
    "                    \n",
    "                    \n",
    "                    if tomato is not None:\n",
    "                        if tea is not None:\n",
    "                        \n",
    "                            print tomato\n",
    "                            print \"TEA,\"tea\n",
    "                            teapot =unicode(str(tea.text))\n",
    "                            teapot2= re.match(\".*\",teapot )\n",
    "                            print teapot\n",
    "                            print teapot2\n",
    "                            break\n",
    "              \n",
    "                \n",
    "                #AFFICHAGE NOM DE FIChIER TRAITE\n",
    "                print os.path.join(subdir, file), \"\\n\"\n",
    "                print \"\\n _______________\\n\"\n",
    "                    #bz+=str(tomato.text.encode('utf-8'))\n",
    "        \n",
    "    return bz"
   ]
  },
  {
   "cell_type": "code",
   "execution_count": 52,
   "metadata": {},
   "outputs": [
    {
     "name": "stdout",
     "output_type": "stream",
     "text": [
      "./DHFRsample/2011-07/https_%a5%a5groupes.renater.fr%a5sympa%a5arc%a5dh%a52011-07%a5msg00001.html \n",
      "\n",
      "\n",
      " _______________\n",
      "\n",
      ": [DH] Un petit tour d'Allemagne des digital humanities  - 2 : Interview de Torsten Schaßan\n",
      "<li><strong>From</strong>: Maud Ingarao &lt;\n",
      " <script type=\"text/javascript\">\n",
      " <!-- \n",
      " document.write(\"maud.ingarao\" + \"@\" + \"ens-lyon.fr\")\n",
      " // -->\n",
      " </script>&gt;</li>\n",
      "From: Maud Ingarao <\n",
      " \n",
      " <!-- \n",
      " document.write(\"maud.ingarao\" + \"@\" + \"ens-lyon.fr\")\n",
      " // -->\n",
      " >\n",
      "None\n",
      "./DHFRsample/2011-07/msg00000.html \n",
      "\n",
      "\n",
      " _______________\n",
      "\n",
      ": [DH] RE: Les Historiens et l'Informatique, u n métier à réinventer, actes du colloque de Rome\n",
      "<li><strong>From</strong>: \"Noiret, Serge\" &lt;\n",
      " <script type=\"text/javascript\">\n",
      " <!-- \n",
      " document.write(\"Serge.Noiret\" + \"@\" + \"EUI.eu\")\n",
      " // -->\n",
      " </script>&gt;</li>\n",
      "From: \"Noiret, Serge\" <\n",
      " \n",
      " <!-- \n",
      " document.write(\"Serge.Noiret\" + \"@\" + \"EUI.eu\")\n",
      " // -->\n",
      " >\n",
      "None\n",
      "./DHFRsample/2011-07/msg00005.html \n",
      "\n",
      "\n",
      " _______________\n",
      "\n",
      "Re: [DH] Consultation de l'Union européenne su r le numérique\n",
      "<li><strong>11/07/07</strong>\n",
      "<ul>\n",
      "<li>\n",
      "<b><a href=\"msg00000.html\" name=\"00000\">[DH] Un petit tour d'Allemagne des digital humanities  - 2 : Interview de Torsten Schaßan</a></b>, <em>Maud Ingarao</em></li>\n",
      "</ul>\n",
      "</li>\n"
     ]
    },
    {
     "ename": "UnicodeEncodeError",
     "evalue": "'ascii' codec can't encode character u'\\xdf' in position 97: ordinal not in range(128)",
     "output_type": "error",
     "traceback": [
      "\u001b[0;31m---------------------------------------------------------------------------\u001b[0m",
      "\u001b[0;31mUnicodeEncodeError\u001b[0m                        Traceback (most recent call last)",
      "\u001b[0;32m<ipython-input-52-2b7c2d6e403a>\u001b[0m in \u001b[0;36m<module>\u001b[0;34m()\u001b[0m\n\u001b[0;32m----> 1\u001b[0;31m \u001b[0msoup\u001b[0m\u001b[0;34m=\u001b[0m\u001b[0mread_html_pages_in_dir\u001b[0m\u001b[0;34m(\u001b[0m\u001b[0;34m\"./DHFRsample\"\u001b[0m\u001b[0;34m)\u001b[0m\u001b[0;34m\u001b[0m\u001b[0m\n\u001b[0m\u001b[1;32m      2\u001b[0m \u001b[0;34m\u001b[0m\u001b[0m\n\u001b[1;32m      3\u001b[0m \u001b[0;34m\u001b[0m\u001b[0m\n\u001b[1;32m      4\u001b[0m \u001b[0;34m\u001b[0m\u001b[0m\n\u001b[1;32m      5\u001b[0m \u001b[0;32mprint\u001b[0m \u001b[0msoup\u001b[0m\u001b[0;34m\u001b[0m\u001b[0m\n",
      "\u001b[0;32m<ipython-input-51-069e6d726494>\u001b[0m in \u001b[0;36mread_html_pages_in_dir\u001b[0;34m(pages_dir)\u001b[0m\n\u001b[1;32m     32\u001b[0m                             \u001b[0;32mprint\u001b[0m \u001b[0mtomato\u001b[0m\u001b[0;34m\u001b[0m\u001b[0m\n\u001b[1;32m     33\u001b[0m                             \u001b[0;32mprint\u001b[0m \u001b[0mtea\u001b[0m\u001b[0;34m\u001b[0m\u001b[0m\n\u001b[0;32m---> 34\u001b[0;31m                             \u001b[0mteapot\u001b[0m \u001b[0;34m=\u001b[0m\u001b[0municode\u001b[0m\u001b[0;34m(\u001b[0m\u001b[0mstr\u001b[0m\u001b[0;34m(\u001b[0m\u001b[0mtea\u001b[0m\u001b[0;34m.\u001b[0m\u001b[0mtext\u001b[0m\u001b[0;34m)\u001b[0m\u001b[0;34m)\u001b[0m\u001b[0;34m\u001b[0m\u001b[0m\n\u001b[0m\u001b[1;32m     35\u001b[0m                             \u001b[0mteapot2\u001b[0m\u001b[0;34m=\u001b[0m \u001b[0mre\u001b[0m\u001b[0;34m.\u001b[0m\u001b[0mmatch\u001b[0m\u001b[0;34m(\u001b[0m\u001b[0;34m\"From :.*\"\u001b[0m\u001b[0;34m,\u001b[0m\u001b[0mteapot\u001b[0m \u001b[0;34m)\u001b[0m\u001b[0;34m\u001b[0m\u001b[0m\n\u001b[1;32m     36\u001b[0m                             \u001b[0;32mprint\u001b[0m \u001b[0mteapot\u001b[0m\u001b[0;34m\u001b[0m\u001b[0m\n",
      "\u001b[0;31mUnicodeEncodeError\u001b[0m: 'ascii' codec can't encode character u'\\xdf' in position 97: ordinal not in range(128)"
     ]
    }
   ],
   "source": [
    "soup=read_html_pages_in_dir(\"./DHFRsample\")\n",
    "\n",
    " \n",
    "\n",
    "print soup"
   ]
  },
  {
   "cell_type": "code",
   "execution_count": null,
   "metadata": {
    "collapsed": true
   },
   "outputs": [],
   "source": []
  }
 ],
 "metadata": {
  "kernelspec": {
   "display_name": "Python 2",
   "language": "python",
   "name": "python2"
  },
  "language_info": {
   "codemirror_mode": {
    "name": "ipython",
    "version": 2
   },
   "file_extension": ".py",
   "mimetype": "text/x-python",
   "name": "python",
   "nbconvert_exporter": "python",
   "pygments_lexer": "ipython2",
   "version": "2.7.13"
  }
 },
 "nbformat": 4,
 "nbformat_minor": 2
}
