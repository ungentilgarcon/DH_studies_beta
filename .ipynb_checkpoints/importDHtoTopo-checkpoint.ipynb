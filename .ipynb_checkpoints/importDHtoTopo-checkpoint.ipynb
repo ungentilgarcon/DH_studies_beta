{
 "cells": [
  {
   "cell_type": "code",
   "execution_count": null,
   "metadata": {
    "collapsed": true
   },
   "outputs": [],
   "source": [
    "#!/usr/bin/env python\n",
    "# -*- coding: utf-8 -*-\n",
    "\n",
    "from topogram_client import TopogramAPIClient\n",
    "\n",
    "from csv import DictReader\n",
    "import os\n",
    "import json\n",
    "import pymongo\n",
    "#import musicbrainzngs\n",
    "import arrow\n",
    "from datetime import datetime\n",
    "from pymongo import MongoClient\n",
    "from collections import defaultdict\n",
    "from dateutil import parser\n",
    "from datetime import timedelta"
   ]
  },
  {
   "cell_type": "code",
   "execution_count": null,
   "metadata": {
    "collapsed": true
   },
   "outputs": [],
   "source": [
    "def create_topogram(title, nodes, edges):\n",
    "\n",
    "    print \"Creating topogram '%s'\"%title\n",
    "\n",
    "    try :\n",
    "        r = topogram.create_topogram(title)\n",
    "    except ValueError:\n",
    "        print '> Topogram already exists'\n",
    "        r = topogram.get_topogram_by_name(title)\n",
    "    print r\n",
    "    topogram_ID = r[\"data\"][\"_id\"]\n",
    "    print \"topogram ID : %s\"%topogram_ID\n",
    "\n",
    "    # get and backup existing nodes and edges\n",
    "    existing_nodes = topogram.get_nodes(topogram_ID)[\"data\"]\n",
    "    existing_edges = topogram.get_edges(topogram_ID)[\"data\"]\n",
    "\n",
    "    # clear existing graph\n",
    "    if len(existing_nodes):\n",
    "        topogram.delete_nodes([n[\"_id\"] for n in existing_nodes])\n",
    "        print \"%s nodes deleted\"%len(existing_nodes)\n",
    "    if len(existing_edges):\n",
    "        topogram.delete_edges([n[\"_id\"] for n in existing_edges])\n",
    "        print \"%s edges deleted\"%len(existing_edges)\n",
    "\n",
    "    r = topogram.create_nodes(topogram_ID, nodes)\n",
    "    print r\n",
    "    print \"%s nodes created.\"%len(r[\"data\"])\n",
    "    r = topogram.create_edges(topogram_ID, edges)\n",
    "    print \"%s edges created.\"%len(r[\"data\"])\n",
    "\n",
    "    print \"done. Topogram has been updated. Check it at %s/topograms/%s\"%(TOPOGRAM_URL, topogram_ID)\n",
    "\n"
   ]
  },
  {
   "cell_type": "code",
   "execution_count": null,
   "metadata": {},
   "outputs": [],
   "source": [
    "import pickle\n",
    "with open('dict_corrected_DH.obj', 'rb') as handle:\n",
    "    dict_corrected_DH = pickle.load(handle)\n",
    "with open('geocoded_locs.obj', 'rb') as handle:\n",
    "    geocoded_locs = pickle.load(handle)\n",
    "import pickle\n",
    "with open('corpus_mails_DH.obj', 'rb') as handle:\n",
    "    corpus_mails_DH = pickle.load(handle)\n",
    "import pickle\n",
    "with open('dict_noms_mails_debut_fin.obj', 'rb') as handle:\n",
    "    dict_noms_mails_debut_fin = pickle.load(handle)\n"
   ]
  },
  {
   "cell_type": "code",
   "execution_count": null,
   "metadata": {},
   "outputs": [],
   "source": [
    "\n",
    "    \n",
    "print str(dict_corrected_DH)[:1000],\"\\n\"\n",
    "print str(geocoded_locs)[:1000],\"\\n\"\n",
    "print str(corpus_mails_DH)[:1000],\"\\n\"\n",
    "print str(dict_noms_mails_debut_fin)[:1000],\"\\n\""
   ]
  },
  {
   "cell_type": "code",
   "execution_count": null,
   "metadata": {},
   "outputs": [],
   "source": [
    "from datetime import timedelta\n",
    "import datetime\n",
    "# credentials\n",
    "TOPOGRAM_URL = \"https://app.topogram.io\"\n",
    "USER = \"gregory.bahde@laposte.net\"\n",
    "PASSWORD = \"matrix\"\n",
    "\n",
    "# data\n",
    "title = \"DH_studies_map\"\n",
    "my_nodesdict = {}\n",
    "my_nodes= []\n",
    "my_edges = []\n",
    "\n",
    "\n",
    "# date parsing\n",
    "DATETIME_FORMAT = '%Y-%m-%dT%H:%M:%S'\n",
    "DATETIME_FORMAT_FOR_MSBNZ ='%Y-%m-%d'\n",
    "\n",
    "\n",
    "\n",
    "###FOR NODES\n",
    "for name in dict_noms_mails_debut_fin:\n",
    "    \n",
    "    for mail_array in dict_noms_mails_debut_fin[name]:\n",
    "        print mail_array[0]\n",
    "        mail_address=mail_array[0]\n",
    "        start= mail_array[1]\n",
    "        end= mail_array[2]\n",
    "        mail_address_suffix=mail_address.split(\"@\",1)[1]\n",
    "        print mail_address_suffix\n",
    "        lat=dict_corrected_DH[mail_address_suffix][\"geometry\"][\"location\"][\"lat\"]\n",
    "        lng=dict_corrected_DH[mail_address_suffix][\"geometry\"][\"location\"][\"lng\"]\n",
    "        print  lat,lng\n",
    "        \n",
    "    print \"-------\"\n",
    "    \n",
    "    \n",
    "    \n",
    "    \n",
    "    \n",
    "    \n",
    "    try: \n",
    "        #print start\n",
    "        #print end\n",
    "        node = {\n",
    "                    \"id\" : mail_address,\n",
    "                    \"name\" : name,\n",
    "                   \"lat\" : float(lat),\n",
    "                   \"lng\" : float(lng),\n",
    "                   \"weight\" : float(4),\n",
    "                    \"start\" : start.isoformat(),\n",
    "                                \n",
    "                   \"end\" : (end+timedelta(days=1)).isoformat()\n",
    "                    }\n",
    "    except AttributeError as e:\n",
    "        print \"STARTSTART\",start\n",
    "        #print datetime.datetime(start[:-5])\n",
    "        print e\n",
    "        \n",
    "        node = {\n",
    "                    \"id\" : mail_address,\n",
    "                    \"name\" : name,\n",
    "                   \"lat\" : float(lat),\n",
    "                   \"lng\" : float(lng),\n",
    "                   \"weight\" : float(4),\n",
    "                    \"start\" : datetime.datetime(2012, 3, 2, 15, 19, 10).isoformat(),\n",
    "                                \n",
    "                   \"end\" : datetime.datetime(2018, 3, 2, 15, 19, 10).isoformat()\n",
    "                    }\n",
    "    my_nodes.append({ \"data\" : node })   \n",
    "    my_nodesdict[node[\"id\"]]= { \"data\" : node }\n",
    "    \n",
    "print my_nodesdict\n",
    "    \n",
    "        \n",
    "    \n",
    "    \n",
    "    "
   ]
  },
  {
   "cell_type": "code",
   "execution_count": null,
   "metadata": {},
   "outputs": [],
   "source": [
    "print len(my_nodesdict)"
   ]
  },
  {
   "cell_type": "code",
   "execution_count": 144,
   "metadata": {},
   "outputs": [
    {
     "name": "stdout",
     "output_type": "stream",
     "text": [
      "527\n"
     ]
    }
   ],
   "source": [
    "def my_edges_list_singled() :\n",
    "    my_edges=[]\n",
    "\n",
    "    for mail in corpus_mails_DH:\n",
    "        #print mail\n",
    "         #print  corpus_mails_DH[mail]\n",
    "        if \"liste_CCs\" in corpus_mails_DH[mail]:\n",
    "            for maild in corpus_mails_DH[mail][\"liste_CCs\"] :\n",
    "                edge = {\n",
    "                    \"id\":unicode(corpus_mails_DH[mail][\"ref_physique_de_l_article\"]),\n",
    "                    \"source\" : corpus_mails_DH[mail][\"mail_auteur\"],\n",
    "                    \"target\" : maild,\n",
    "                    \"weight\" : float(2),\n",
    "                    \"name\" : unicode(corpus_mails_DH[mail][\"sujet_du_message\"])\n",
    "                }\n",
    "                my_edges.append({ \"data\" : edge })\n",
    "\n",
    "        for maild in corpus_mails_DH[mail][\"liste_mails_dests\"] :\n",
    "            edge = {\n",
    "                \"id\":unicode(corpus_mails_DH[mail][\"ref_physique_de_l_article\"]),\n",
    "                \"source\" : corpus_mails_DH[mail][\"mail_auteur\"],\n",
    "                \"target\" : maild,\n",
    "                \"weight\" : float(5),\n",
    "                \"name\" : unicode(corpus_mails_DH[mail][\"sujet_du_message\"])\n",
    "            }\n",
    "            my_edges.append({ \"data\" : edge })\n",
    "\n",
    "\n",
    "\n",
    "    print len(my_edges)\n",
    "    return my_edges\n",
    "my_edges_singled=my_edges_list_singled()"
   ]
  },
  {
   "cell_type": "code",
   "execution_count": 145,
   "metadata": {},
   "outputs": [
    {
     "name": "stdout",
     "output_type": "stream",
     "text": [
      "527\n"
     ]
    }
   ],
   "source": [
    "def my_edges_list_by_source_dest() :\n",
    "    my_edges=[]\n",
    "\n",
    "    for mail in corpus_mails_DH:\n",
    "        #print mail\n",
    "         #print  corpus_mails_DH[mail]\n",
    "        if \"liste_CCs\" in corpus_mails_DH[mail]:\n",
    "            for maild in corpus_mails_DH[mail][\"liste_CCs\"] :\n",
    "                #print unicode(corpus_mails_DH[mail][\"sujet_du_message\"])\n",
    "                edge = {\n",
    "                    #\"id\":unicode(corpus_mails_DH[mail][\"ref_physique_de_l_article\"]),\n",
    "                    \"source\" : corpus_mails_DH[mail][\"mail_auteur\"],\n",
    "                    \"target\" : maild,\n",
    "                    \"weight\" : float(2),\n",
    "                    #\"name\" : unicode(corpus_mails_DH[mail][\"sujet_du_message\"])+\" \"+\n",
    "                }\n",
    "                my_edges.append({ \"data\" : edge })\n",
    "\n",
    "        for maild in corpus_mails_DH[mail][\"liste_mails_dests\"] :\n",
    "            edge = {\n",
    "                #\"id\":unicode(corpus_mails_DH[mail][\"ref_physique_de_l_article\"]),\n",
    "                \"source\" : corpus_mails_DH[mail][\"mail_auteur\"],\n",
    "                \"target\" : maild,\n",
    "                \"weight\" : float(5),\n",
    "                #\"name\" : unicode(corpus_mails_DH[mail][\"sujet_du_message\"])\n",
    "            }\n",
    "            my_edges.append({ \"data\" : edge })\n",
    "\n",
    "\n",
    "\n",
    "    print len(my_edges)\n",
    "    return my_edges\n",
    "\n",
    "my_edges_duped=my_edges_list_by_source_dest()"
   ]
  },
  {
   "cell_type": "code",
   "execution_count": 208,
   "metadata": {},
   "outputs": [
    {
     "name": "stdout",
     "output_type": "stream",
     "text": [
      "527\n"
     ]
    }
   ],
   "source": [
    "def my_edges_list_with_subject() :\n",
    "    my_edges=[]\n",
    "\n",
    "    for mail in corpus_mails_DH:\n",
    "        #print mail\n",
    "         #print  corpus_mails_DH[mail]\n",
    "        if \"liste_CCs\" in corpus_mails_DH[mail]:\n",
    "            for maild in corpus_mails_DH[mail][\"liste_CCs\"] :\n",
    "                #print unicode(corpus_mails_DH[mail][\"sujet_du_message\"])\n",
    "                edge = {\n",
    "                    #\"id\":unicode(corpus_mails_DH[mail][\"ref_physique_de_l_article\"]),\n",
    "                    \"source\" : corpus_mails_DH[mail][\"mail_auteur\"],\n",
    "                    \"target\" : maild,\n",
    "                    #\"weight\" : float(2),\n",
    "                    \"name\" : unicode(corpus_mails_DH[mail][\"sujet_du_message\"])\n",
    "                }\n",
    "                my_edges.append({ \"data\" : edge })\n",
    "\n",
    "        for maild in corpus_mails_DH[mail][\"liste_mails_dests\"] :\n",
    "            edge = {\n",
    "                #\"id\":unicode(corpus_mails_DH[mail][\"ref_physique_de_l_article\"]),\n",
    "                \"source\" : corpus_mails_DH[mail][\"mail_auteur\"],\n",
    "                \"target\" : maild,\n",
    "                #\"weight\" : float(5),\n",
    "                \"name\" : unicode(corpus_mails_DH[mail][\"sujet_du_message\"])\n",
    "            }\n",
    "            my_edges.append({ \"data\" : edge })\n",
    "\n",
    "\n",
    "\n",
    "    print len(my_edges)\n",
    "\n",
    "    return my_edges\n",
    "\n",
    "my_edges_duped_with_subject=my_edges_list_with_subject()"
   ]
  },
  {
   "cell_type": "code",
   "execution_count": 203,
   "metadata": {},
   "outputs": [],
   "source": [
    "\n",
    "\n",
    "#WE HAVE TO TEST THE EDGES, BUT IT IS AN ARRAY OF DICTS,SO WE NEED TO FLATTEN THEM TO COUNT THEM SIMPLY\n",
    "\n",
    "import collections\n",
    "\n",
    "def flatten(d, parent_key='', sep='_'):\n",
    "    items = []\n",
    "    for k, v in d.items():\n",
    "        new_key = parent_key + sep + k if parent_key else k\n",
    "        if isinstance(v, collections.MutableMapping):\n",
    "            items.extend(flatten(v, new_key, sep=sep).items())\n",
    "        else:\n",
    "            items.append((new_key, v))\n",
    "    return dict(items)\n",
    "\n",
    "\n"
   ]
  },
  {
   "cell_type": "code",
   "execution_count": 223,
   "metadata": {},
   "outputs": [
    {
     "name": "stdout",
     "output_type": "stream",
     "text": [
      "[{'data': {'source': 'jorge.fins@univ-tours.fr', 'target': 'dh@groupes.renater.fr', 'weight': 5.0}}]\n",
      "total 368\n",
      "dups 527\n",
      "dups_cnt 368\n",
      "[{'data': {'source': 'e.salvatori@mediev.unipi.it', 'target': 'dh@groupes.renater.fr', 'weight': 5.0}}, {'data': {'source': 'delegue.general@adbu.fr', 'target': 'dh@groupes.renater.fr', 'weight': 5.0}}, {'data': {'source': 'graham.ranger@univ-avignon.fr', 'target': 'parislinguists@yahoogroupes.fr', 'weight': 5.0}}, {'data': {'source': 'Guillaume.Blum@design.ulaval.ca', 'target': 'docs-ri@yahoogroupes.fr', 'weight': 5.0}}, {'data': {'source': 'jahjah.marc@gmail.com', 'target': 'dh@groupes.renater.fr', 'weight': 5.0}}, {'data': {'source': 'gpansu@gmail.com', 'target': 'dh@groupes.renater.fr', 'weight': 5.0}}, {'data': {'source': 'eric.kergosien@univ-lille3.fr', 'target': 'liste-proml@lri.fr', 'weight': 5.0}}, {'data': {'source': 'emmanuelle.morlock@gmail.com', 'target': 'dh@groupes.renater.fr', 'weight': 5.0}}, {'data': {'source': 'claire.lemercier@sciencespo.fr', 'target': 'dh@groupes.renater.fr', 'weight': 5.0}}, {'data': {'source': 'yamina.bensaadoune@univ-rouen.fr', 'target': 'dh@groupes.renater.fr', 'weight': 5.0}}, {'data': {'source': 'aurelie.olivesi@wanadoo.fr', 'target': 'efigies-info@rezo.net', 'weight': 5.0}}, {'data': {'source': 'oledeuff@gmail.com', 'target': 'valerie.beaugiraud@ens-lyon.fr', 'weight': 5.0}}, {'data': {'source': 'jorge.fins@univ-tours.fr', 'target': 'dh@groupes.renater.fr', 'weight': 10.0}}, {'data': {'source': 'jbcamps@hotmail.com', 'target': 'dh@groupes.renater.fr', 'weight': 5.0}}, {'data': {'source': 'enrico.natale@infoclio.ch', 'target': 'dh@cru.fr', 'weight': 5.0}}, {'data': {'source': 'pe.barrault@gmail.com', 'target': 'emmanuelle.duwez@sciencespo.fr', 'weight': 5.0}}, {'data': {'source': 'Eveline.Wandl-Vogt@oeaw.ac.at', 'target': 'air-l@listserv.aoir.org', 'weight': 5.0}}, {'data': {'source': 'michel.bernard@univ-paris3.fr', 'target': 'litor@listes.univ-paris3.fr', 'weight': 5.0}}, {'data': {'source': 'eric.kergosien@univ-lille3.fr', 'target': 'docs-ri@yahoogroupes.fr', 'weight': 10.0}}, {'data': {'source': 'marionlame@gmail.com', 'target': 'dh@cru.fr', 'weight': 5.0}}, {'data': {'source': 'elenagonzalezblanco@yahoo.es', 'target': 'air-l@listserv.aoir.org', 'weight': 5.0}}, {'data': {'source': 'Eveline.Wandl-Vogt@oeaw.ac.at', 'target': 'humanisticadh@gmail.com', 'weight': 5.0}}, {'data': {'source': 'Guillaume.Blum@design.ulaval.ca', 'target': 'liste-proml@lri.fr', 'weight': 5.0}}, {'data': {'source': 'listes@ahicf.com', 'target': 'athena@services.cnrs.fr', 'weight': 20.0}}, {'data': {'source': 'cecile.boulaire@univ-tours.fr', 'target': 'christine.benevent@univ-tours.fr', 'weight': 2.0}}, {'data': {'source': 'oledeuff@gmail.com', 'target': 'claire.clivaz@unil.ch', 'weight': 2.0}}, {'data': {'source': 'pierre.mounier@openedition.org', 'target': 'frederic@clavert.net', 'weight': 5.0}}, {'data': {'source': 'espejosuros.javier@gmail.com', 'target': 'dh@groupes.renater.fr', 'weight': 5.0}}, {'data': {'source': 'vial.stephane@gmail.com', 'target': 'theuth@listes.univ-rennes1.fr', 'weight': 5.0}}, {'data': {'source': 'eric.kergosien@univ-lille3.fr', 'target': 'info-ic@listes.irisa.fr', 'weight': 15.0}}, {'data': {'source': 'beauguittelaurent@hotmail.com', 'target': 'martaseve@gmail.com', 'weight': 2.0}}, {'data': {'source': 'vial.stephane@gmail.com', 'target': 'projekt-membres@liste.unimes.fr', 'weight': 5.0}}, {'data': {'source': 'muriel.foulonneau@gmail.com', 'target': 'dh@cru.fr', 'weight': 5.0}}, {'data': {'source': 'aurelie.olivesi@gmail.com', 'target': 'dh@groupes.renater.fr', 'weight': 5.0}}, {'data': {'source': 'ottaviano.nancy@gmail.com', 'target': 'diffusion@listes.ancmsp.com', 'weight': 5.0}}, {'data': {'source': 'dumouchelsuzanne@yahoo.fr', 'target': 'legram@yahoogroupes.fr', 'weight': 15.0}}, {'data': {'source': 'carmen.brando@gmail.com', 'target': 'humanist@lists.digitalhumanities.org', 'weight': 5.0}}, {'data': {'source': 'jorge.fins@univ-tours.fr', 'target': 'huyghe.marie@gmail.com', 'weight': 5.0}}, {'data': {'source': 'marionlame@gmail.com', 'target': 'dh@cru.fr', 'weight': 2.0}}, {'data': {'source': 'marin.dacos@revues.org', 'target': 'dh@cru.fr', 'weight': 15.0}}, {'data': {'source': 'nadine.dardenne@cnrs.fr', 'target': 'dh@groupes.renater.fr', 'weight': 5.0}}, {'data': {'source': 'marie-noelle.polino@ahicf.com', 'target': 'marie-noelle.polino@ahicf.com', 'weight': 5.0}}, {'data': {'source': 'julia.bonaccorsi@univ-lyon2.fr', 'target': 'dh@groupes.renater.fr', 'weight': 5.0}}, {'data': {'source': 'pascal.cristofoli@ehess.fr', 'target': 'dh-request@groupes.renater.fr', 'weight': 2.0}}, {'data': {'source': 'remi.jimenes@gmail.com', 'target': 'dh@groupes.renater.fr', 'weight': 5.0}}, {'data': {'source': 'graham.ranger@univ-avignon.fr', 'target': 'alaes_liste@yahoogroupes.fr', 'weight': 5.0}}, {'data': {'source': 'myriam.tazi@sciencespo.fr', 'target': 'dh@groupes.renater.fr', 'weight': 10.0}}, {'data': {'source': 'antoine.blanchard@gmail.com', 'target': 'jean-daniel.fekete@inria.fr', 'weight': 2.0}}, {'data': {'source': 'hdefouca@u-paris10.fr', 'target': 'dh@groupes.renater.fr', 'weight': 5.0}}, {'data': {'source': 'vial.stephane@gmail.com', 'target': 'recherche-design@listes.univ-paris1.fr', 'weight': 5.0}}, {'data': {'source': 'gerald.kembellec@cnam.fr', 'target': 'dh@groupes.renater.fr', 'weight': 10.0}}, {'data': {'source': 'marie-laure.massot@ens.fr', 'target': 'Marie-Laure.Massot@ens.fr', 'weight': 5.0}}, {'data': {'source': 'jerome.darmont@univ-lyon2.fr', 'target': 'dh@groupes.renater.fr', 'weight': 2.0}}, {'data': {'source': 'paul.girard@sciencespo.fr', 'target': 'dh@groupes.renater.fr', 'weight': 2.0}}, {'data': {'source': 'oledeuff@gmail.com', 'target': 'dh@groupes.renater.fr', 'weight': 4.0}}, {'data': {'source': 'Serge.Noiret@EUI.eu', 'target': 'dh@groupes.renater.fr', 'weight': 5.0}}, {'data': {'source': 'nicolas.legrand@obspm.fr', 'target': 'dh@groupes.renater.fr', 'weight': 4.0}}, {'data': {'source': 'jerome.valluy@univ-paris1.fr', 'target': 'alexandre.hocquet@univ-lorraine.fr', 'weight': 5.0}}, {'data': {'source': 'cecile.rodrigues@cnrs.fr', 'target': 'dh@groupes.renater.fr', 'weight': 5.0}}, {'data': {'source': 'stephane.loret@univ-nantes.fr', 'target': 'quanti@groupes.renater.fr', 'weight': 5.0}}, {'data': {'source': 'elenagonzalezblanco@yahoo.es', 'target': 'humanist@lists.digitalhumanities.org', 'weight': 10.0}}, {'data': {'source': 'jouni.tuominen@helsinki.fi', 'target': 'dh@groupes.renater.fr', 'weight': 5.0}}, {'data': {'source': 'elenagonzalezblanco@yahoo.es', 'target': 'humanisticadh@gmail.com', 'weight': 5.0}}, {'data': {'source': 'laurent.romary@inria.fr', 'target': 'gregory.grefenstette@inria.fr', 'weight': 5.0}}, {'data': {'source': 'maud.ingarao@ens-lyon.fr', 'target': 'c.schoech@gmail.com', 'weight': 5.0}}, {'data': {'source': 'arno.zucker@gmail.com', 'target': 'dh@groupes.renater.fr', 'weight': 5.0}}, {'data': {'source': 'michel.bernard@univ-paris3.fr', 'target': 'numeruniv-quotidien@cines.fr', 'weight': 5.0}}, {'data': {'source': 'jorge.fins@univ-tours.fr', 'target': 'laurent.cailly@univ-tours.fr', 'weight': 2.0}}, {'data': {'source': 'stephane.pouyllau@huma-num.fr', 'target': 'dh@groupes.renater.fr', 'weight': 60.0}}, {'data': {'source': 'manuel.zacklad@cnam.fr', 'target': 'Mathieu.Andro@versailles.inra.fr', 'weight': 5.0}}, {'data': {'source': 'delphine.cavallo@univ-amu.fr', 'target': 'dh@groupes.renater.fr', 'weight': 10.0}}, {'data': {'source': 'claire.clivaz@unil.ch', 'target': 'frederic@clavert.net', 'weight': 2.0}}, {'data': {'source': 'Frederic.Clavert@unil.ch', 'target': 'dh@groupes.renater.fr', 'weight': 5.0}}, {'data': {'source': 'jerome.darmont@univ-lyon2.fr', 'target': 'annonces@madics.fr', 'weight': 5.0}}, {'data': {'source': 'eric.kergosien@univ-lille3.fr', 'target': 'magis@imag.fr', 'weight': 10.0}}, {'data': {'source': 'Christine.michel@insa-lyon.fr', 'target': 'dh@groupes.renater.fr', 'weight': 5.0}}, {'data': {'source': 'nicolas.legrand@obspm.fr', 'target': 'antoine.courtin@mac.com', 'weight': 5.0}}, {'data': {'source': 'elenagonzalezblanco@yahoo.es', 'target': 'website@hastac.org', 'weight': 10.0}}, {'data': {'source': 'secardinolivier@yahoo.fr', 'target': 'emploi-fle@groupes.renater.fr', 'weight': 5.0}}, {'data': {'source': 'aude.da-cruz-lima@mae.u-paris10.fr', 'target': 'archives-son-audiovisuel@groups.openedition.org', 'weight': 5.0}}, {'data': {'source': 'laetitia.bontemps@univ-tours.fr', 'target': 'DH@cru.fr', 'weight': 5.0}}, {'data': {'source': 'laurence.rageot@univ-tours.fr', 'target': 'olivier.marlet@univ-tours.fr', 'weight': 2.0}}, {'data': {'source': 'jf.omhover@histographe.com', 'target': 'dh@groupes.renater.fr', 'weight': 5.0}}, {'data': {'source': 'pabloruizfabo@gmail.com', 'target': 'dh@groupes.renater.fr', 'weight': 5.0}}, {'data': {'source': 'inatheque@ina.fr', 'target': 'dh@groupes.renater.fr', 'weight': 5.0}}, {'data': {'source': 'aurelie.olivesi@wanadoo.fr', 'target': 'diffusion@listes.ancmsp.com', 'weight': 5.0}}, {'data': {'source': 'aude.da-cruz-lima@mae.u-paris10.fr', 'target': 'dh@groupes.renater.fr', 'weight': 5.0}}, {'data': {'source': 'elenagonzalezblanco@yahoo.es', 'target': 'dm-l@uleth.ca', 'weight': 10.0}}, {'data': {'source': 'elenagonzalezblanco@yahoo.es', 'target': 'dhcarolina@listserv.unc.edu', 'weight': 10.0}}, {'data': {'source': 'Guillaume.Blum@design.ulaval.ca', 'target': 'ln@cines.fr', 'weight': 5.0}}, {'data': {'source': 'stefanev@club-internet.fr', 'target': 'dh@cru.fr', 'weight': 5.0}}, {'data': {'source': 'svhoolan@ulb.ac.be', 'target': 'dh@groupes.renater.fr', 'weight': 10.0}}, {'data': {'source': 'caroline.cance@univ-orleans.fr', 'target': 'dh@groupes.renater.fr', 'weight': 5.0}}, {'data': {'source': 'manuel.zacklad@cnam.fr', 'target': 'lisa.chupin@gmail.com', 'weight': 2.0}}, {'data': {'source': 'pierre.mounier@openedition.org', 'target': 'claire.clivaz@unil.ch', 'weight': 5.0}}, {'data': {'source': 'slh@ens-lyon.fr', 'target': 'corpus-ecrits@cru.fr', 'weight': 10.0}}, {'data': {'source': 'emmanuelle.duwez@sciencespo.fr', 'target': 'dh@groupes.renater.fr', 'weight': 5.0}}, {'data': {'source': 'delegue.general@adbu.fr', 'target': 'delegue.general@adbu.fr', 'weight': 2.0}}, {'data': {'source': 'Guillaume.Blum@design.ulaval.ca', 'target': 'dh@groupes.renater.fr', 'weight': 5.0}}, {'data': {'source': 'paul.girard@sciencespo.fr', 'target': 'stephane.pouyllau@huma-num.fr', 'weight': 2.0}}, {'data': {'source': 'viera.rebolledodhuin@free.fr', 'target': 'viera.rebolledodhuin@free.fr', 'weight': 5.0}}, {'data': {'source': 'beauguittelaurent@hotmail.com', 'target': 'dh@groupes.renater.fr', 'weight': 5.0}}, {'data': {'source': 'audrey.baneyx@sciencespo.fr', 'target': 'dh@groupes.renater.fr', 'weight': 5.0}}, {'data': {'source': 'MKoenig@dhi-paris.fr', 'target': 'aurelien.berra@gmail.com', 'weight': 5.0}}, {'data': {'source': 'vial.stephane@gmail.com', 'target': 'culture.numerique@ml.free.fr', 'weight': 5.0}}, {'data': {'source': 'michel.bernard@univ-paris3.fr', 'target': 'dh@cru.fr', 'weight': 5.0}}, {'data': {'source': 'joel.marchand@huma-num.fr', 'target': 'dh@groupes.renater.fr', 'weight': 5.0}}, {'data': {'source': 'jerome.valluy@univ-paris1.fr', 'target': 'dh@groupes.renater.fr', 'weight': 25.0}}, {'data': {'source': 'antoine.blanchard@gmail.com', 'target': 'Nicole.Dufournaud@laposte.net', 'weight': 5.0}}, {'data': {'source': 'isabelle.thiebau@univ-lille2.fr', 'target': 'dh@groupes.renater.fr', 'weight': 15.0}}, {'data': {'source': 'gerald.kembellec@lecnam.net', 'target': 'dh@groupes.renater.fr', 'weight': 5.0}}, {'data': {'source': 'irihs@univ-rouen.fr', 'target': 'dh@groupes.renater.fr', 'weight': 5.0}}, {'data': {'source': 'Eveline.Wandl-Vogt@oeaw.ac.at', 'target': 'humanidadesdigitais@gmail.com', 'weight': 5.0}}, {'data': {'source': 'cecile.boulaire@univ-tours.fr', 'target': 'sandrine.breuil@univ-tours.fr', 'weight': 5.0}}, {'data': {'source': 'Eveline.Wandl-Vogt@oeaw.ac.at', 'target': 'dhcarolina@listserv.unc.edu', 'weight': 5.0}}, {'data': {'source': 'Eric.Guichard@enssib.fr', 'target': 'dh@groupes.renater.fr', 'weight': 15.0}}, {'data': {'source': 'clemence.jacquot@gmail.com', 'target': 'dh@groupes.renater.fr', 'weight': 5.0}}, {'data': {'source': 'marie-laure.massot@ens.fr', 'target': 'digit_hum@ens.fr', 'weight': 5.0}}, {'data': {'source': 'enrico.natale@infoclio.ch', 'target': 'dh@groupes.renater.fr', 'weight': 5.0}}, {'data': {'source': 'amel.fraisse@univ-lille3.fr', 'target': 'dh@groupes.renater.fr', 'weight': 5.0}}, {'data': {'source': 'jerome.darmont@univ-lyon2.fr', 'target': 'eda-liste@listes.univ-lyon2.fr', 'weight': 2.0}}, {'data': {'source': 'pierre.mounier@openedition.org', 'target': 'frederic@clavert.net', 'weight': 2.0}}, {'data': {'source': 'Eveline.Wandl-Vogt@oeaw.ac.at', 'target': 'elenagonzalezblanco@yahoo.es', 'weight': 5.0}}, {'data': {'source': 'francoise.paquienseguy@sciencespo-lyon.fr', 'target': 'dh@groupes.renater.fr', 'weight': 10.0}}, {'data': {'source': 'alexandre.hocquet@univ-lorraine.fr', 'target': 'dh@groupes.renater.fr', 'weight': 5.0}}, {'data': {'source': 'vial.stephane@gmail.com', 'target': 'info@design-fax.fr', 'weight': 5.0}}, {'data': {'source': 'antoine.courtin@mac.com', 'target': 'stephane.pouyllau@huma-num.fr', 'weight': 5.0}}, {'data': {'source': 'Francoise.Blum@univ-paris1.fr', 'target': 'dh@groupes.renater.fr', 'weight': 5.0}}, {'data': {'source': 'claire.clivaz@unil.ch', 'target': 'dh@groupes.renater.fr', 'weight': 10.0}}, {'data': {'source': 'graham.ranger@univ-avignon.fr', 'target': 'saes@univ-pau.fr', 'weight': 5.0}}, {'data': {'source': 'clarisse_bardiot@me.com', 'target': 'dh@groupes.renater.fr', 'weight': 5.0}}, {'data': {'source': 'stamkou@free.fr', 'target': 'dh@groupes.renater.fr', 'weight': 15.0}}, {'data': {'source': 'francois.bavaud@unil.ch', 'target': 'llist@unil.ch', 'weight': 2.0}}, {'data': {'source': 'Eveline.Wandl-Vogt@oeaw.ac.at', 'target': 'dh@groupes.renater.fr', 'weight': 5.0}}, {'data': {'source': 'slh@ens-lyon.fr', 'target': 'txm-users@groupes.renater.fr', 'weight': 10.0}}, {'data': {'source': 'elenagonzalezblanco@yahoo.es', 'target': 'tei-l@listserv.brown.edu', 'weight': 10.0}}, {'data': {'source': 'oledeuff@gmail.com', 'target': 'pierre.mounier@openedition.org', 'weight': 5.0}}, {'data': {'source': 'pascal.cristofoli@ehess.fr', 'target': 'dh-request@groupes.renater.fr', 'weight': 5.0}}, {'data': {'source': 'projet.iglouvre@gmail.com', 'target': 'dh@cru.fr', 'weight': 5.0}}, {'data': {'source': 'carmen.brando@gmail.com', 'target': 'bull-i3@irit.fr', 'weight': 5.0}}, {'data': {'source': 'eric.kergosien@univ-lille3.fr', 'target': 'ln@cines.fr', 'weight': 15.0}}, {'data': {'source': 'graham.ranger@univ-avignon.fr', 'target': 'agorantic@listes.univ-avignon.fr', 'weight': 5.0}}, {'data': {'source': 'Serge.Noiret@EUI.eu', 'target': 'dh@cru.fr', 'weight': 2.0}}, {'data': {'source': 'florence.andreacola@univ-grenoble-alpes.fr', 'target': 'dh@groupes.renater.fr', 'weight': 5.0}}, {'data': {'source': 'Christine.michel@insa-lyon.fr', 'target': 'cerisier@univ-poitiers.fr', 'weight': 2.0}}, {'data': {'source': 'aamonnz@gmail.com', 'target': 'dh@groupes.renater.fr', 'weight': 5.0}}, {'data': {'source': 'listes@ahicf.com', 'target': 'archives-fr@yahoogroupes.fr', 'weight': 20.0}}, {'data': {'source': 'beauguittelaurent@hotmail.com', 'target': 'geotamtam@unil.ch', 'weight': 5.0}}, {'data': {'source': 'francesco.beretta@ish-lyon.cnrs.fr', 'target': 'dh@groupes.renater.fr', 'weight': 10.0}}, {'data': {'source': 'michaelesinatra@gmail.com', 'target': 'dh@groupes.renater.fr', 'weight': 5.0}}, {'data': {'source': 'Serge.Noiret@EUI.eu', 'target': 'marin.dacos@revues.org', 'weight': 5.0}}, {'data': {'source': 'jakob.epler@dariah.eu', 'target': 'jakob.epler@dariah.eu', 'weight': 5.0}}, {'data': {'source': 'cecile.boulaire@univ-tours.fr', 'target': 'sandrine.breuil@univ-tours.fr', 'weight': 2.0}}, {'data': {'source': 'pierre.mounier@openedition.org', 'target': 'dh@groupes.renater.fr', 'weight': 10.0}}, {'data': {'source': 'listes@ahicf.com', 'target': 'dh@groupes.renater.fr', 'weight': 20.0}}, {'data': {'source': 'Eveline.Wandl-Vogt@oeaw.ac.at', 'target': 'air-l@aoir.org', 'weight': 5.0}}, {'data': {'source': 'elenagonzalezblanco@yahoo.es', 'target': 'globaloutlookdh-l@uleth.ca', 'weight': 10.0}}, {'data': {'source': 'Guillaume.Blum@design.ulaval.ca', 'target': 'liste-egc@polytech.univ-nantes.fr', 'weight': 5.0}}, {'data': {'source': 'adeline.joffres@huma-num.fr', 'target': 'dh@groupes.renater.fr', 'weight': 10.0}}, {'data': {'source': 'pierazzo@gmail.com', 'target': 'dh@groupes.renater.fr', 'weight': 5.0}}, {'data': {'source': 'raphaelle.krummeich@univ-rouen.fr', 'target': 'dh@groupes.renater.fr', 'weight': 5.0}}, {'data': {'source': 'recherche.coordination@bnf.fr', 'target': 'dh-request@groupes.renater.fr', 'weight': 2.0}}, {'data': {'source': 'pierre.mounier@ehess.fr', 'target': 'stephane.pouyllau@cnrs.fr', 'weight': 5.0}}, {'data': {'source': 'anne-laure.brisac@inha.fr', 'target': 'dh@cru.fr', 'weight': 5.0}}, {'data': {'source': 'laurens@ehess.fr', 'target': 'dh@groupes.renater.fr', 'weight': 5.0}}, {'data': {'source': 'colette.cadiou@irstea.fr', 'target': 'dh@groupes.renater.fr', 'weight': 5.0}}, {'data': {'source': 'stephane.lamasse@univ-paris1.fr', 'target': 'dh@groupes.renater.fr', 'weight': 10.0}}, {'data': {'source': 'marjorie.burghart@ehess.fr', 'target': 'tei-fr@groupes.renater.fr', 'weight': 2.0}}, {'data': {'source': 'richard.walter@ens.fr', 'target': 'dh@groupes.renater.fr', 'weight': 5.0}}, {'data': {'source': 'antoine.blanchard@gmail.com', 'target': 'dh@groupes.renater.fr', 'weight': 5.0}}, {'data': {'source': 'Serge.Noiret@EUI.eu', 'target': 'DH@cru.fr', 'weight': 5.0}}, {'data': {'source': 'stephane.loret@univ-nantes.fr', 'target': 'rbdd@services.cnrs.fr', 'weight': 5.0}}, {'data': {'source': 'nicolas.legrand@obspm.fr', 'target': 'aurelien.berra@gmail.com', 'weight': 5.0}}, {'data': {'source': 'alexandre.moatti@mines.org', 'target': 'dh@groupes.renater.fr', 'weight': 5.0}}, {'data': {'source': 'secardinolivier@yahoo.fr', 'target': 'dh@groupes.renater.fr', 'weight': 5.0}}, {'data': {'source': 'stephane.pouyllau@huma-num.fr', 'target': 'humanum-diffusion@listes.huma-num.fr', 'weight': 5.0}}, {'data': {'source': 'jerome.darmont@univ-lyon2.fr', 'target': 'madics-adoc@listes.univ-lyon2.fr', 'weight': 5.0}}, {'data': {'source': 'frederic@clavert.net', 'target': 'dh@cru.fr', 'weight': 20.0}}, {'data': {'source': 'Eveline.Wandl-Vogt@oeaw.ac.at', 'target': 'website@hastac.org', 'weight': 5.0}}, {'data': {'source': 'pierre.mounier@ehess.fr', 'target': 'dh@groupes.renater.fr', 'weight': 2.0}}, {'data': {'source': 'Daniel.Stoekl@ephe.sorbonne.fr', 'target': 'dh@groupes.renater.fr', 'weight': 5.0}}, {'data': {'source': 'Eveline.Wandl-Vogt@oeaw.ac.at', 'target': 'exploreAT@oeaw.ac.at', 'weight': 5.0}}, {'data': {'source': 'camillemonnier33@hotmail.com', 'target': 'dh@groupes.renater.fr', 'weight': 5.0}}, {'data': {'source': 'eric.kergosien@univ-lille3.fr', 'target': 'liste-egc@polytech.univ-nantes.fr', 'weight': 15.0}}, {'data': {'source': 'clarisse_bardiot@mac.com', 'target': 'dh@groupes.renater.fr', 'weight': 15.0}}, {'data': {'source': 'pierre.mounier@openedition.org', 'target': 'dh@groupes.renater.fr', 'weight': 6.0}}, {'data': {'source': 'gresillon@cmb.hu-berlin.de', 'target': 'dh@groupes.renater.fr', 'weight': 5.0}}, {'data': {'source': 'vanessa.juloux@ephe.sorbonne.fr', 'target': 'dh@groupes.renater.fr', 'weight': 5.0}}, {'data': {'source': 'oledeuff@gmail.com', 'target': 'dh@groupes.renater.fr', 'weight': 10.0}}, {'data': {'source': 'iglouvremb@gmail.com', 'target': 'dh@groupes.renater.fr', 'weight': 5.0}}, {'data': {'source': 'caroline.rossi@univ-grenoble-alpes.fr', 'target': 'dh@groupes.renater.fr', 'weight': 5.0}}, {'data': {'source': 'marjorie.burghart@ehess.fr', 'target': 'tei-fr@cru.fr', 'weight': 2.0}}, {'data': {'source': 'marie-laure.massot@ens.fr', 'target': 'dh@groupes.renater.fr', 'weight': 10.0}}, {'data': {'source': 'vial.stephane@gmail.com', 'target': 'athena@services.cnrs.fr', 'weight': 5.0}}, {'data': {'source': 'elenagonzalezblanco@yahoo.es', 'target': 'redhd@humanidadesdigitales.net', 'weight': 5.0}}, {'data': {'source': 'delegue.general@adbu.fr', 'target': 'helene.coste@univ-lehavre.fr', 'weight': 2.0}}, {'data': {'source': 'cecile.boulaire@univ-tours.fr', 'target': 'dh@groupes.renater.fr', 'weight': 5.0}}, {'data': {'source': 'spadinielena@gmail.com', 'target': 'TEXTUALSCHOLARSHIP@jiscmail.ac.uk', 'weight': 5.0}}, {'data': {'source': 'claire.clivaz@unil.ch', 'target': 'dh@groupes.renater.fr', 'weight': 2.0}}, {'data': {'source': 'elenagonzalezblanco@yahoo.es', 'target': 'institute@lists.uvic.ca', 'weight': 10.0}}, {'data': {'source': 'elenagonzalezblanco@yahoo.es', 'target': 'digitalclassicist@jiscmail.ac.uk', 'weight': 10.0}}, {'data': {'source': 'frederic@clavert.net', 'target': 'dh@groupes.renater.fr', 'weight': 50.0}}, {'data': {'source': 'listes@ahicf.com', 'target': 'medici@listes.huma-num.fr', 'weight': 20.0}}, {'data': {'source': 'jouni.tuominen@aalto.fi', 'target': 'dh@groupes.renater.fr', 'weight': 5.0}}, {'data': {'source': 'laurent.romary@inria.fr', 'target': 'dh@groupes.renater.fr', 'weight': 15.0}}, {'data': {'source': 'martin.grandjean@unil.ch', 'target': 'dh@groupes.renater.fr', 'weight': 15.0}}, {'data': {'source': 'Eveline.Wandl-Vogt@oeaw.ac.at', 'target': 'dhd@mailman.rrz.uni-hamburg.de', 'weight': 5.0}}, {'data': {'source': 'judith.hannoun@univ-amu.fr', 'target': 'dh@groupes.renater.fr', 'weight': 5.0}}, {'data': {'source': 'formation.continue@enc-sorbonne.fr', 'target': 'dh@groupes.renater.fr', 'weight': 5.0}}, {'data': {'source': 'cecile.boulaire@univ-tours.fr', 'target': 'tei-fr@groupes.renater.fr', 'weight': 5.0}}, {'data': {'source': 'beatrice.markhoff@univ-tours.fr', 'target': 'dh@groupes.renater.fr', 'weight': 10.0}}, {'data': {'source': 'Eveline.Wandl-Vogt@oeaw.ac.at', 'target': 'institute@lists.uvic.ca', 'weight': 5.0}}, {'data': {'source': 'elenagonzalezblanco@yahoo.es', 'target': 'humanidadesdigitais@gmail.com', 'weight': 10.0}}, {'data': {'source': 'jerome.darmont@univ-lyon2.fr', 'target': 'bull-i3@irit.fr', 'weight': 2.0}}, {'data': {'source': 'recherche.coordination@bnf.fr', 'target': 'dh-request@groupes.renater.fr', 'weight': 5.0}}, {'data': {'source': 'aurelie.olivesi@wanadoo.fr', 'target': 'aurelie.olivesi@univ-lyon1.fr', 'weight': 2.0}}, {'data': {'source': 'listes@ahicf.com', 'target': 'ferinterfrance@googlegroups.com', 'weight': 20.0}}, {'data': {'source': 'yosra.ghliss17@gmail.com', 'target': 'dh@groupes.renater.fr', 'weight': 5.0}}, {'data': {'source': 'slh@ens-lyon.fr', 'target': 'dh@groupes.renater.fr', 'weight': 20.0}}, {'data': {'source': 'slh@ens-lyon.fr', 'target': 'ln@cines.fr', 'weight': 10.0}}, {'data': {'source': 'francoise.paquienseguy@sciencespo-lyon.fr', 'target': 'sabine.loudcher@univ-lyon2.fr', 'weight': 2.0}}, {'data': {'source': 'sclerisse@parisnanterre.fr', 'target': 'dh@groupes.renater.fr', 'weight': 5.0}}, {'data': {'source': 'marie-laure.massot@ens.fr', 'target': 'Marie-Laure.Massot@ens.fr', 'weight': 2.0}}, {'data': {'source': 'antonio.casilli@ehess.fr', 'target': 'dh@groupes.renater.fr', 'weight': 10.0}}, {'data': {'source': 'elisabeth.belmas@wanadoo.fr', 'target': 'dh@groupes.renater.fr', 'weight': 5.0}}, {'data': {'source': 'aurelien.berra@gmail.com', 'target': 'dh@groupes.renater.fr', 'weight': 30.0}}, {'data': {'source': 'marjorie.burghart@ehess.fr', 'target': 'tei-fr@groupes.renater.fr', 'weight': 5.0}}, {'data': {'source': 'ottaviano.nancy@gmail.com', 'target': 'dh@groupes.renater.fr', 'weight': 5.0}}, {'data': {'source': 'michel.bernard@univ-paris3.fr', 'target': 'dh@groupes.renater.fr', 'weight': 10.0}}, {'data': {'source': 'stephane.pouyllau@huma-num.fr', 'target': 'humanum-veille@listes.huma-num.fr', 'weight': 2.0}}, {'data': {'source': 'jbcamps@hotmail.com', 'target': 'thibault.clerice@enc-sorbonne.fr', 'weight': 2.0}}, {'data': {'source': 'cecile.boulaire@univ-tours.fr', 'target': 'christine.benevent@univ-tours.fr', 'weight': 5.0}}, {'data': {'source': 'emilien.ruiz@ehess.fr', 'target': 'dh@cru.fr', 'weight': 5.0}}, {'data': {'source': 'lisette.calderan@inria.fr', 'target': 'dh@groupes.renater.fr', 'weight': 5.0}}, {'data': {'source': 'laurent.romary@inria.fr', 'target': 'gregory.grefenstette@inria.fr', 'weight': 2.0}}, {'data': {'source': 'secardinolivier@yahoo.fr', 'target': 'adherents-aipu-fr@groupes.renater.fr', 'weight': 5.0}}, {'data': {'source': 'sandrine.breuil@univ-tours.fr', 'target': 'dh@cru.fr', 'weight': 5.0}}, {'data': {'source': 'florent.laroche@ec-nantes.fr', 'target': 'dh@groupes.renater.fr', 'weight': 5.0}}, {'data': {'source': 'claire.clivaz@sib.swiss', 'target': 'dh@groupes.renater.fr', 'weight': 15.0}}, {'data': {'source': 'listes@ahicf.com', 'target': 'listes@ahicf.com', 'weight': 5.0}}, {'data': {'source': 'emmanuelguez@yahoo.fr', 'target': 'dh@groupes.renater.fr', 'weight': 5.0}}, {'data': {'source': 'secardinolivier@yahoo.fr', 'target': 'afec-info@groupes.renater.fr', 'weight': 5.0}}, {'data': {'source': 'elenagonzalezblanco@yahoo.es', 'target': 'centernet@lists.digitalhumanities.org', 'weight': 10.0}}, {'data': {'source': 'cynthia.pedroja@meshs.fr', 'target': 'dh@cru.fr', 'weight': 5.0}}, {'data': {'source': 'Christine.michel@insa-lyon.fr', 'target': 'cerisier@univ-poitiers.fr', 'weight': 5.0}}, {'data': {'source': 'dumouchelsuzanne@yahoo.fr', 'target': 'dh@groupes.renater.fr', 'weight': 15.0}}, {'data': {'source': 'manuel.zacklad@cnam.fr', 'target': 'dh@groupes.renater.fr', 'weight': 5.0}}, {'data': {'source': 'recherche.coordination@bnf.fr', 'target': 'dh@groupes.renater.fr', 'weight': 5.0}}, {'data': {'source': 'Eveline.Wandl-Vogt@oeaw.ac.at', 'target': 'textualscholarship@jiscmail.ac.uk', 'weight': 5.0}}, {'data': {'source': 'valerie.beaugiraud@ens-lyon.fr', 'target': 'dh@groupes.renater.fr', 'weight': 5.0}}, {'data': {'source': 'dumouchelsuzanne@yahoo.fr', 'target': 'listesocius@groups.openedition.org', 'weight': 10.0}}, {'data': {'source': 'Serge.Noiret@EUI.eu', 'target': 'dh@cru.fr', 'weight': 5.0}}, {'data': {'source': 'sandrine.clerisse@cnrs.fr', 'target': 'dh@groupes.renater.fr', 'weight': 5.0}}, {'data': {'source': 'Eveline.Wandl-Vogt@oeaw.ac.at', 'target': 'humanist-l@uleth.ca', 'weight': 5.0}}, {'data': {'source': 'Guillaume.Blum@design.ulaval.ca', 'target': 'magis@imag.fr', 'weight': 5.0}}, {'data': {'source': 'laurence.rageot@univ-tours.fr', 'target': 'dh@groupes.renater.fr', 'weight': 10.0}}, {'data': {'source': 'dominique.stutzmann@irht.cnrs.fr', 'target': 'dh@groupes.renater.fr', 'weight': 5.0}}, {'data': {'source': 'Guillaume.Blum@design.ulaval.ca', 'target': 'info-ic@listes.irisa.fr', 'weight': 5.0}}, {'data': {'source': 'audrey.baneyx@sciencespo.fr', 'target': 'info-ic@listes.irisa.fr', 'weight': 5.0}}, {'data': {'source': 'marionlame@gmail.com', 'target': 'marin.dacos@revues.org', 'weight': 5.0}}, {'data': {'source': 'eric.kergosien@univ-lille3.fr', 'target': 'bull-i3@irit.fr', 'weight': 15.0}}, {'data': {'source': 'elenagonzalezblanco@yahoo.es', 'target': 'air-l@aoir.org', 'weight': 10.0}}, {'data': {'source': 'jorge.fins@univ-tours.fr', 'target': 'huyghe.marie@gmail.com', 'weight': 2.0}}, {'data': {'source': 'annael.le-poullennec@psl.eu', 'target': 'dh@groupes.renater.fr', 'weight': 5.0}}, {'data': {'source': 'listes@ahicf.com', 'target': 'histoire_eco-request@groupes.renater.fr', 'weight': 20.0}}, {'data': {'source': 'antoine.courtin@mac.com', 'target': 'dh@groupes.renater.fr', 'weight': 2.0}}, {'data': {'source': 'marjorie.burghart@ehess.fr', 'target': 'dh@groupes.renater.fr', 'weight': 40.0}}, {'data': {'source': 'johann.holland@campus-condorcet.fr', 'target': 'dh@groupes.renater.fr', 'weight': 10.0}}, {'data': {'source': 'marjorie.burghart@ehess.fr', 'target': 'tei-fr@cru.fr', 'weight': 10.0}}, {'data': {'source': 'marin.dacos@openedition.org', 'target': 'dh@groupes.renater.fr', 'weight': 5.0}}, {'data': {'source': 'Guillaume.Blum@design.ulaval.ca', 'target': 'bull-i3@irit.fr', 'weight': 5.0}}, {'data': {'source': 'cecile.boulaire@univ-tours.fr', 'target': 'laurent.gerbier@univ-tours.fr', 'weight': 2.0}}, {'data': {'source': 'elenagonzalezblanco@yahoo.es', 'target': 'INFOLING@LISTSERV.REDIRIS.ES', 'weight': 5.0}}, {'data': {'source': 'frederic.clavert@uni.lu', 'target': 'dh@groupes.renater.fr', 'weight': 20.0}}, {'data': {'source': 'elenagonzalezblanco@yahoo.es', 'target': 'dhd@mailman.rrz.uni-hamburg.de', 'weight': 10.0}}, {'data': {'source': 'georges-xavier.blary@unilim.fr', 'target': 'dh@groupes.renater.fr', 'weight': 5.0}}, {'data': {'source': 'marin.dacos@openedition.org', 'target': 'dh@cru.fr', 'weight': 15.0}}, {'data': {'source': 'carmen.brando@gmail.com', 'target': 'ln@cines.fr', 'weight': 5.0}}, {'data': {'source': 'jea.herzog@gmail.com', 'target': 'dh@groupes.renater.fr', 'weight': 5.0}}, {'data': {'source': 'maud.ingarao@ens-lyon.fr', 'target': 'schassan@hab.de', 'weight': 5.0}}, {'data': {'source': 'elenagonzalezblanco@yahoo.es', 'target': 'humanist-l@uleth.ca', 'weight': 10.0}}, {'data': {'source': 'francoise.paquienseguy@sciencespo-lyon.fr', 'target': 'julia.bonaccorsi@univ-lyon2.fr', 'weight': 2.0}}, {'data': {'source': 'stephane.loret@univ-nantes.fr', 'target': 'dh@groupes.renater.fr', 'weight': 15.0}}, {'data': {'source': 'elenagonzalezblanco@yahoo.es', 'target': 'aiucd-l@humnet.unipi.it', 'weight': 10.0}}, {'data': {'source': 'aurelie.olivesi@wanadoo.fr', 'target': 'dh@groupes.renater.fr', 'weight': 5.0}}, {'data': {'source': 'Serge.Noiret@EUI.eu', 'target': 'marionlame@gmail.com', 'weight': 5.0}}, {'data': {'source': 'mahe.annaig@wanadoo.fr', 'target': 'dh@groupes.renater.fr', 'weight': 5.0}}, {'data': {'source': 'dumouchelsuzanne@yahoo.fr', 'target': 'culture.numerique@ml.free.fr', 'weight': 15.0}}, {'data': {'source': 'oledeuff@gmail.com', 'target': 'frederic@clavert.net', 'weight': 2.0}}, {'data': {'source': 'francois.bavaud@unil.ch', 'target': 'dh@groupes.renater.fr', 'weight': 5.0}}, {'data': {'source': 'm.bourgatte@icp.fr', 'target': 'dh@groupes.renater.fr', 'weight': 5.0}}, {'data': {'source': 'graham.ranger@univ-avignon.fr', 'target': 'dh@groupes.renater.fr', 'weight': 5.0}}, {'data': {'source': 'carmen.brando@gmail.com', 'target': 'francesca.frontini@univ-montp3.fr', 'weight': 2.0}}, {'data': {'source': 'nicolas.thely@univ-rennes2.fr', 'target': 'dh@groupes.renater.fr', 'weight': 5.0}}, {'data': {'source': 'ncasanova@mmsh.univ-aix.fr', 'target': 'dh@groupes.renater.fr', 'weight': 5.0}}, {'data': {'source': 'francoise.paquienseguy@sciencespo-lyon.fr', 'target': 'sarah.cordonnier@gmail.com', 'weight': 2.0}}, {'data': {'source': 'pierre.mounier@openedition.org', 'target': 'stephane.pouyllau@huma-num.fr', 'weight': 5.0}}, {'data': {'source': 'elenagonzalezblanco@yahoo.es', 'target': 'dh@groupes.renater.fr', 'weight': 10.0}}, {'data': {'source': 'caroline.muller@univ-reims.fr', 'target': 'dh@groupes.renater.fr', 'weight': 5.0}}, {'data': {'source': 'eric.kergosien@univ-lille3.fr', 'target': 'doccitanist@services.cnrs.fr', 'weight': 5.0}}, {'data': {'source': 'pe.barrault@gmail.com', 'target': 'dh@groupes.renater.fr', 'weight': 2.0}}, {'data': {'source': 'jerome.darmont@univ-lyon2.fr', 'target': 'liste-egc@polytech.univ-nantes.fr', 'weight': 2.0}}, {'data': {'source': 'claire.clivaz@unil.ch', 'target': 'pierre.mounier@openedition.org', 'weight': 5.0}}, {'data': {'source': 'marie.e.lescasse@gmail.com', 'target': 'dh@groupes.renater.fr', 'weight': 5.0}}, {'data': {'source': 'delegue.general@adbu.fr', 'target': 'valerie.neouze@parisdescartes.fr', 'weight': 2.0}}, {'data': {'source': 'antoine.courtin@mac.com', 'target': 'ontologie-patrimoine@services.cnrs.fr', 'weight': 5.0}}, {'data': {'source': 'Eveline.Wandl-Vogt@oeaw.ac.at', 'target': 'southasia-dh@lists.globaloutlookdh.org', 'weight': 5.0}}, {'data': {'source': 'slh@ens-lyon.fr', 'target': 'cahier@groupes.renater.fr', 'weight': 5.0}}, {'data': {'source': 'eric.kergosien@univ-lille3.fr', 'target': 'info-aria@lsis.org', 'weight': 5.0}}, {'data': {'source': 'dominique.stutzmann@irht.cnrs.fr', 'target': 'dhd@mailman.rrz.uni-hamburg.de', 'weight': 5.0}}, {'data': {'source': 'elodie.faath@openedition.org', 'target': 'dh@groupes.renater.fr', 'weight': 5.0}}, {'data': {'source': 'graham.ranger@univ-avignon.fr', 'target': 'corpora@uib.no', 'weight': 5.0}}, {'data': {'source': 'cecile.soudan@ehess.fr', 'target': 'dh@groupes.renater.fr', 'weight': 5.0}}, {'data': {'source': 'christine.chadier@univ-lyon3.fr', 'target': 'dh@groupes.renater.fr', 'weight': 10.0}}, {'data': {'source': 'marta.materni@gmail.com', 'target': 'dh@groupes.renater.fr', 'weight': 5.0}}, {'data': {'source': 'paul.girard@sciencespo.fr', 'target': 'antoine.courtin@mac.com', 'weight': 5.0}}, {'data': {'source': 'francois.theron@uvsq.fr', 'target': 'dh@groupes.renater.fr', 'weight': 5.0}}, {'data': {'source': 'secardinolivier@yahoo.fr', 'target': 'debuter-en-dh@groupes.renater.fr', 'weight': 5.0}}, {'data': {'source': 'Rene.Audet@lit.ulaval.ca', 'target': 'dh@groupes.renater.fr', 'weight': 5.0}}, {'data': {'source': 'thierry.poibeau@ens.fr', 'target': 'dh@groupes.renater.fr', 'weight': 10.0}}, {'data': {'source': 'eric.kergosien@univ-lille3.fr', 'target': 'inforsid@listes.insa-lyon.fr', 'weight': 10.0}}, {'data': {'source': 'antonio.casilli@googlemail.com', 'target': 'dh@groupes.renater.fr', 'weight': 5.0}}, {'data': {'source': 'amelie.vairelles@sciencespo.fr', 'target': 'dh@groupes.renater.fr', 'weight': 5.0}}, {'data': {'source': 'nicolasthelyrennes2@gmail.com', 'target': 'dh@groupes.renater.fr', 'weight': 5.0}}, {'data': {'source': 'ghislain.sillaume@cvce.eu', 'target': 'dh@groupes.renater.fr', 'weight': 5.0}}, {'data': {'source': 'cecile.boulaire@univ-tours.fr', 'target': 'laurent.gerbier@univ-tours.fr', 'weight': 5.0}}, {'data': {'source': 'aamonnz@gmail.com', 'target': 'dh@cru.fr', 'weight': 10.0}}, {'data': {'source': 'MKoenig@dhi-paris.fr', 'target': 'dh@groupes.renater.fr', 'weight': 10.0}}, {'data': {'source': 'marie-laure.massot@ens.fr', 'target': 'digit_hum@ens.fr', 'weight': 2.0}}, {'data': {'source': 'listes@ahicf.com', 'target': 'nep-his@lists.repec.org', 'weight': 20.0}}, {'data': {'source': 'jorge.fins@univ-tours.fr', 'target': 'laurent.cailly@univ-tours.fr', 'weight': 5.0}}, {'data': {'source': 'eric.kergosien@univ-lille3.fr', 'target': 'adbs-info@listes.adbs.fr', 'weight': 5.0}}, {'data': {'source': 'Mathieu.Andro@versailles.inra.fr', 'target': 'dh@groupes.renater.fr', 'weight': 5.0}}, {'data': {'source': 'jerome.darmont@univ-lyon2.fr', 'target': 'fil-tmd@groupes.renater.fr', 'weight': 2.0}}, {'data': {'source': 'vial.stephane@gmail.com', 'target': 'dh@groupes.renater.fr', 'weight': 10.0}}, {'data': {'source': 'secardinolivier@yahoo.fr', 'target': 'anstia-adherents@groupes.renater.fr', 'weight': 5.0}}, {'data': {'source': 'elinaleblanc3007@gmail.com', 'target': 'dh@groupes.renater.fr', 'weight': 5.0}}, {'data': {'source': 'Eveline.Wandl-Vogt@oeaw.ac.at', 'target': 'ahdig@googlegroups.com', 'weight': 5.0}}, {'data': {'source': 'antoine.courtin@mac.com', 'target': 'dh@groupes.renater.fr', 'weight': 10.0}}, {'data': {'source': 'sarah.cadorel@sciencespo.fr', 'target': 'dh@groupes.renater.fr', 'weight': 5.0}}, {'data': {'source': 'jerome.darmont@univ-lyon2.fr', 'target': 'gazettebd3@imag.fr', 'weight': 2.0}}, {'data': {'source': 'antoine.blanchard@gmail.com', 'target': 'marjorie.burghart@ehess.fr', 'weight': 2.0}}, {'data': {'source': 'dbernhard@unistra.fr', 'target': 'dh@groupes.renater.fr', 'weight': 5.0}}, {'data': {'source': 'elenagonzalezblanco@yahoo.es', 'target': 'infoling@listserv.rediris.es', 'weight': 5.0}}, {'data': {'source': 'mehdi.khamassi@upmc.fr', 'target': 'dh@cru.fr', 'weight': 5.0}}, {'data': {'source': 'fatihaidmhand@yahoo.es', 'target': 'dh@groupes.renater.fr', 'weight': 5.0}}, {'data': {'source': 'Nicolas.Larrousse@huma-num.fr', 'target': 'dh@groupes.renater.fr', 'weight': 10.0}}, {'data': {'source': 'nicolas.legrand@obspm.fr', 'target': 'stephane.pouyllau@huma-num.fr', 'weight': 2.0}}, {'data': {'source': 'carmen.brando@gmail.com', 'target': 'liste-egc@polytech.univ-nantes.fr', 'weight': 5.0}}, {'data': {'source': 'stephane.pouyllau@cnrs.fr', 'target': 'dh@groupes.renater.fr', 'weight': 10.0}}, {'data': {'source': 'vial.stephane@gmail.com', 'target': 'projekt@unimes.fr', 'weight': 5.0}}, {'data': {'source': 'elenagonzalezblanco@yahoo.es', 'target': 'iwetel@listserv.rediris.es', 'weight': 5.0}}, {'data': {'source': 'carmen.brando@gmail.com', 'target': 'info-ic@listes.irisa.fr', 'weight': 5.0}}, {'data': {'source': 'dominique.stutzmann@irht.cnrs.fr', 'target': 'dh@cru.fr', 'weight': 5.0}}, {'data': {'source': 'benoit.epron@enssib.fr', 'target': 'dh@groupes.renater.fr', 'weight': 5.0}}, {'data': {'source': 'sylvain.laube@univ-brest.fr', 'target': 'dh@groupes.renater.fr', 'weight': 10.0}}, {'data': {'source': 'raphaelle.bour@irit.fr', 'target': 'dh@groupes.renater.fr', 'weight': 5.0}}, {'data': {'source': 'elenagonzalezblanco@yahoo.es', 'target': 'southasia-dh@lists.globaloutlookdh.org', 'weight': 5.0}}, {'data': {'source': 'pascal.cristofoli@ehess.fr', 'target': 'dh@groupes.renater.fr', 'weight': 5.0}}, {'data': {'source': 'eric.kergosien@univ-lille3.fr', 'target': 'dh@groupes.renater.fr', 'weight': 20.0}}, {'data': {'source': 'eric.kergosien@univ-lille3.fr', 'target': 'accesouvert@groupes.renater.fr', 'weight': 5.0}}, {'data': {'source': 'carmen.brando@gmail.com', 'target': 'dh@groupes.renater.fr', 'weight': 5.0}}, {'data': {'source': 'florence.clavaud@free.fr', 'target': 'dh@groupes.renater.fr', 'weight': 5.0}}, {'data': {'source': 'martaseve@gmail.com', 'target': 'dh@groupes.renater.fr', 'weight': 5.0}}, {'data': {'source': 'anne.baillot@gmail.com', 'target': 'dh@groupes.renater.fr', 'weight': 15.0}}, {'data': {'source': 'aurelie.olivesi@wanadoo.fr', 'target': 'etudesfeministes-l@simone.univ-tlse2.fr', 'weight': 5.0}}, {'data': {'source': 'olfa.lamloum@gmail.com', 'target': 'dh@groupes.renater.fr', 'weight': 5.0}}, {'data': {'source': 'Eveline.Wandl-Vogt@oeaw.ac.at', 'target': 'globaloutlookdh-l@uleth.ca', 'weight': 5.0}}]\n"
     ]
    }
   ],
   "source": [
    "def list_flattener_and_finder(edges_list_singled,edges_list_duped):\n",
    "    from collections import Counter\n",
    "    import ast\n",
    "    my_edges_replacement_deduped=[]\n",
    "    receiver=[]\n",
    "    for i,dic in enumerate(edges_list_duped):\n",
    "        #print my_edges[i]\n",
    "        dicto=flatten(edges_list_duped[i])\n",
    "    #    print dicto\n",
    "        receiver.append(str(dicto))\n",
    "\n",
    "    #print receiver\n",
    "    CREE= Counter(receiver).iteritems()\n",
    "    total=0\n",
    "    dups=0\n",
    "    dups_cnt=0\n",
    "    \n",
    "    print edges_list_singled[:1]\n",
    "    for key, value in CREE:\n",
    "        #print key\n",
    "        #print value\n",
    "        keyB={'data':{}}\n",
    "        total+=1\n",
    "        \n",
    "        #print ast.literal_eval(key)[\"data_source\"]\n",
    "        #print ast.literal_eval(key)[\"data_target\"]        \n",
    "        keyB={'data':{\"source\":ast.literal_eval(key)[\"data_source\"],\"target\": ast.literal_eval(key)[\"data_target\"]}}\n",
    "        #print \"SUP\",key, value\n",
    "        dups+=value\n",
    "        dups_cnt+=1\n",
    "        #print \">>\",keyB\n",
    "        #print ast.literal_eval(key)[\"data_weight\"]    \n",
    "        keyB[\"data\"][\"weight\"]= float(value*float(ast.literal_eval(key)[\"data_weight\"]))\n",
    "        #print \"KEYB____\",keyB\n",
    "        my_edges_replacement_deduped.append(keyB)\n",
    "\n",
    "\n",
    "            \n",
    "\n",
    "\n",
    "\n",
    "\n",
    "\n",
    "    print \"total\",total\n",
    "\n",
    "    print \"dups\",dups\n",
    "    print \"dups_cnt\",dups_cnt\n",
    "    return my_edges_replacement_deduped\n",
    "\n",
    "listor=list_flattener_and_finder(my_edges,my_edges_duped)\n",
    "print listor"
   ]
  },
  {
   "cell_type": "code",
   "execution_count": 224,
   "metadata": {},
   "outputs": [],
   "source": [
    "res=dups/dups_cnt\n",
    "\n"
   ]
  },
  {
   "cell_type": "code",
   "execution_count": 226,
   "metadata": {},
   "outputs": [],
   "source": [
    "my_edges=listor"
   ]
  },
  {
   "cell_type": "code",
   "execution_count": 227,
   "metadata": {},
   "outputs": [
    {
     "name": "stderr",
     "output_type": "stream",
     "text": [
      "ERROR:topogram-client:403 Unauthorized request\n"
     ]
    },
    {
     "name": "stdout",
     "output_type": "stream",
     "text": [
      "> User has already been created.\n",
      "{u'status': u'success', 'status_code': 200, u'data': {u'authToken': u'yDmUiNdRKuGNa3mdmryicnJVI9-jkHB05_4NnILluS8', u'userId': u'DaofbRenqYpqqNmtz'}}\n"
     ]
    }
   ],
   "source": [
    "# connect to the topogram instance (pass debug=True params for more info )\n",
    "topogram = TopogramAPIClient(TOPOGRAM_URL) #, debug=True)\n",
    "\n",
    "# create a new user\n",
    "try :\n",
    "    topogram.create_user(USER, PASSWORD)\n",
    "except ValueError:\n",
    "    print \"> User has already been created.\"\n",
    "\n",
    "# login a new user if needed\n",
    "resp_user_login = topogram.user_login(USER, PASSWORD)\n",
    "print resp_user_login\n",
    "\n",
    "assert(resp_user_login[\"status\"] == \"success\")\n",
    "assert(resp_user_login[\"status_code\"] == 200)\n",
    "my_nodesdictList = []\n",
    "for key, value in my_nodesdict.iteritems():\n",
    "    \n",
    "    my_nodesdictList.append(value)\n",
    "\n"
   ]
  },
  {
   "cell_type": "code",
   "execution_count": 228,
   "metadata": {},
   "outputs": [
    {
     "name": "stdout",
     "output_type": "stream",
     "text": [
      "[{'data': {'end': '2015-07-03T15:41:35+02:00', 'name': 'Fr\\xc3\\xa9d\\xc3\\xa9ric Clavert', 'weight': 4.0, 'start': '2012-07-10T10:39:11+02:00', 'lat': 46.9464269, 'lng': 7.4360048, 'id': 'frederic@clavert.net'}}, {'data': {'end': '2015-07-28T14:16:20+02:00', 'name': 'Audrey Baneyx - Sciences Po', 'weight': 4.0, 'start': '2015-07-27T14:16:20+02:00', 'lat': 48.8540917, 'lng': 2.3283745, 'id': 'audrey.baneyx@sciencespo.fr'}}, {'data': {'end': '2018-03-07T10:58:35+00:00', 'name': 'St\\xc3\\xa9phane Vial', 'weight': 4.0, 'start': '2017-06-11T14:29:59+00:00', 'lat': 46.9464269, 'lng': 7.4360048, 'id': 'vial.stephane@gmail.com'}}, {'data': {'end': '2018-03-29T17:09:57+02:00', 'name': 'Marie-Eglantine Lescasse', 'weight': 4.0, 'start': '2018-03-28T17:09:57+02:00', 'lat': 46.9464269, 'lng': 7.4360048, 'id': 'marie.e.lescasse@gmail.com'}}, {'data': {'end': '2018-03-13T13:45:47+01:00', 'name': 'Laurence Rageot', 'weight': 4.0, 'start': '2015-07-08T15:10:16+02:00', 'lat': 47.3838055, 'lng': 0.6738727999999999, 'id': 'laurence.rageot@univ-tours.fr'}}, {'data': {'end': '2018-03-13T15:15:16+01:00', 'name': 'cl\\xc3\\xa9mence jacquot', 'weight': 4.0, 'start': '2018-03-12T15:15:16+01:00', 'lat': 46.9464269, 'lng': 7.4360048, 'id': 'clemence.jacquot@gmail.com'}}, {'data': {'end': '2018-03-10T17:52:54+01:00', 'name': 'Michel Bernard', 'weight': 4.0, 'start': '2014-07-10T09:09:21+02:00', 'lat': 48.83979619999999, 'lng': 2.3538807, 'id': 'michel.bernard@univ-paris3.fr'}}, {'data': {'end': '2016-07-07T19:01:56+02:00', 'name': 'Laurent Romary', 'weight': 4.0, 'start': '2014-07-30T15:35:56+02:00', 'lat': 45.7862471, 'lng': 4.8797456, 'id': 'laurent.romary@inria.fr'}}, {'data': {'end': '2015-07-10T11:42:23+02:00', 'name': 'Val\\xc3\\xa9rie Beaugiraud', 'weight': 4.0, 'start': '2015-07-09T11:42:23+02:00', 'lat': 45.7298448, 'lng': 4.8285332, 'id': 'valerie.beaugiraud@ens-lyon.fr'}}, {'data': {'end': '2014-07-10T22:34:26+02:00', 'name': 'Nancy Ottaviano', 'weight': 4.0, 'start': '2014-07-09T22:34:26+02:00', 'lat': 46.9464269, 'lng': 7.4360048, 'id': 'ottaviano.nancy@gmail.com'}}, {'data': {'end': '2015-07-16T17:07:53+02:00', 'name': 'YAMINA BENSAADOUNE', 'weight': 4.0, 'start': '2015-07-15T17:07:53+02:00', 'lat': 49.4583047, 'lng': 1.0688892, 'id': 'yamina.bensaadoune@univ-rouen.fr'}}, {'data': {'end': '2017-06-28T14:19:29+02:00', 'name': 'Alexandre Hocquet', 'weight': 4.0, 'start': '2017-06-27T14:19:29+02:00', 'lat': 49.1203429, 'lng': 6.1627983, 'id': 'alexandre.hocquet@univ-lorraine.fr'}}, {'data': {'end': '2018-03-05T11:39:36+01:00', 'name': 'B\\xc3\\xa9atrice Markhoff', 'weight': 4.0, 'start': '2017-06-13T14:27:18+02:00', 'lat': 47.3838055, 'lng': 0.6738727999999999, 'id': 'beatrice.markhoff@univ-tours.fr'}}, {'data': {'end': '2016-07-20T14:37:11+02:00', 'name': 'Michael Bourgatte', 'weight': 4.0, 'start': '2016-07-19T14:37:11+02:00', 'lat': 48.8480625, 'lng': 2.330099300000001, 'id': 'm.bourgatte@icp.fr'}}, {'data': {'end': '2017-06-28T14:18:48+02:00', 'name': 'Dominique Stutzmann', 'weight': 4.0, 'start': '2012-07-02T08:25:19+02:00', 'lat': 48.8664818, 'lng': 2.2954043, 'id': 'dominique.stutzmann@irht.cnrs.fr'}}, {'data': {'end': '2018-03-22T09:24:41+01:00', 'name': 'Caroline Cance', 'weight': 4.0, 'start': '2018-03-21T09:24:41+01:00', 'lat': 47.8430441, 'lng': 1.9365067, 'id': 'caroline.cance@univ-orleans.fr'}}, {'data': {'end': '2018-03-10T11:17:31+01:00', 'name': 'J\\xc3\\xa9r\\xc3\\xb4me Darmont', 'weight': 4.0, 'start': '2018-03-09T11:17:31+01:00', 'lat': 45.7507518, 'lng': 4.8371866, 'id': 'jerome.darmont@univ-lyon2.fr'}}, {'data': {'end': '2018-03-13T12:39:06+01:00', 'name': 'Cristofoli Pascal', 'weight': 4.0, 'start': '2018-03-12T12:39:06+01:00', 'lat': 48.850174, 'lng': 2.3268487, 'id': 'pascal.cristofoli@ehess.fr'}}, {'data': {'end': '2015-07-10T12:05:28+02:00', 'name': 'Mathieu Andro', 'weight': 4.0, 'start': '2015-07-09T12:05:28+02:00', 'lat': 48.8021553, 'lng': 2.0872588, 'id': 'Mathieu.Andro@versailles.inra.fr'}}, {'data': {'end': '2017-06-22T17:16:28+00:00', 'name': 'Guillaume Blum', 'weight': 4.0, 'start': '2017-06-21T17:16:28+00:00', 'lat': 46.812707, 'lng': -71.225985, 'id': 'Guillaume.Blum@design.ulaval.ca'}}, {'data': {'end': '2016-07-20T09:59:52+00:00', 'name': 'Fatiha IDMHAND', 'weight': 4.0, 'start': '2016-07-19T09:59:52+00:00', 'lat': 46.9464269, 'lng': 7.4360048, 'id': 'fatihaidmhand@yahoo.es'}}, {'data': {'end': '2018-03-27T12:04:54+02:00', 'name': 'Adeline Joffres', 'weight': 4.0, 'start': '2018-03-26T11:36:23+02:00', 'lat': 48.850142, 'lng': 2.3269827, 'id': 'adeline.joffres@huma-num.fr'}}, {'data': {'end': '2016-07-23T14:58:33+00:00', 'name': 'CASANOVA Nathalie', 'weight': 4.0, 'start': '2016-07-22T14:58:33+00:00', 'lat': 43.5285412, 'lng': 5.418264499999999, 'id': 'ncasanova@mmsh.univ-aix.fr'}}, {'data': {'end': '2016-07-13T16:03:09+02:00', 'name': 'Richard Walter', 'weight': 4.0, 'start': '2016-07-12T16:03:09+02:00', 'lat': 48.8422058, 'lng': 2.3451689, 'id': 'richard.walter@ens.fr'}}, {'data': {'end': '2017-06-20T17:21:06+02:00', 'name': 'Nadine Dardenne', 'weight': 4.0, 'start': '2017-06-19T17:21:06+02:00', 'lat': 45.203453, 'lng': 5.700235999999999, 'id': 'nadine.dardenne@cnrs.fr'}}, {'data': {'end': '2015-07-09T16:44:49+02:00', 'name': 'H\\xc3\\xa9l\\xc3\\xa8ne de Foucaud', 'weight': 4.0, 'start': '2015-07-08T16:44:49+02:00', 'lat': 48.90339900000001, 'lng': 2.211274, 'id': 'hdefouca@u-paris10.fr'}}, {'data': {'end': '2014-07-10T22:02:02+02:00', 'name': 'Aurelie OLIVESI', 'weight': 4.0, 'start': '2014-07-09T22:02:02+02:00', 'lat': 44.556284, 'lng': -0.248764, 'id': 'aurelie.olivesi@wanadoo.fr'}}, {'data': {'end': '2017-06-17T15:27:11+02:00', 'name': 'CAROLINE ROSSI', 'weight': 4.0, 'start': '2017-06-16T15:27:11+02:00', 'lat': 45.1914198, 'lng': 5.7672724, 'id': 'caroline.rossi@univ-grenoble-alpes.fr'}}, {'data': {'end': '2014-07-10T11:48:10+02:00', 'name': 'Lisette Calderan', 'weight': 4.0, 'start': '2014-07-09T11:48:10+02:00', 'lat': 45.7862471, 'lng': 4.8797456, 'id': 'lisette.calderan@inria.fr'}}, {'data': {'end': '2016-07-02T12:39:37+02:00', 'name': 'Julia Bonaccorsi', 'weight': 4.0, 'start': '2016-07-01T12:39:37+02:00', 'lat': 45.7507518, 'lng': 4.8371866, 'id': 'julia.bonaccorsi@univ-lyon2.fr'}}, {'data': {'end': '2014-07-10T20:12:07+02:00', 'name': 'C\\xc3\\xa9cile BOULAIRE', 'weight': 4.0, 'start': '2014-07-09T20:12:07+02:00', 'lat': 47.3838055, 'lng': 0.6738727999999999, 'id': 'cecile.boulaire@univ-tours.fr'}}, {'data': {'end': '2017-06-13T08:42:16+02:00', 'name': 'Myriam TAZI', 'weight': 4.0, 'start': '2017-06-08T12:11:54+02:00', 'lat': 48.8540917, 'lng': 2.3283745, 'id': 'myriam.tazi@sciencespo.fr'}}, {'data': {'end': '2018-03-02T15:19:10', 'name': 'Anne-Laure Brisac-Chra\\xc3\\xafbi', 'weight': 4.0, 'start': '2012-03-02T15:19:10', 'lat': 48.86633639999999, 'lng': 2.3388561, 'id': 'anne-laure.brisac@inha.fr'}}, {'data': {'end': '2018-03-03T15:19:10+00:00', 'name': 'HANNOUN Judith', 'weight': 4.0, 'start': '2018-03-02T15:19:10+00:00', 'lat': 43.29362099999999, 'lng': 5.358066, 'id': 'judith.hannoun@univ-amu.fr'}}, {'data': {'end': '2017-06-13T09:19:59+00:00', 'name': 'camille monnier', 'weight': 4.0, 'start': '2017-06-12T09:19:59+00:00', 'lat': 47.63937689999999, 'lng': -122.1282558, 'id': 'camillemonnier33@hotmail.com'}}, {'data': {'end': '2014-07-30T12:04:36+02:00', 'name': 'elisabeth.belmas', 'weight': 4.0, 'start': '2014-07-29T12:04:36+02:00', 'lat': 44.556284, 'lng': -0.248764, 'id': 'elisabeth.belmas@wanadoo.fr'}}, {'data': {'end': '2013-07-16T09:34:39+02:00', 'name': 'Paul Girard', 'weight': 4.0, 'start': '2013-07-15T09:34:39+02:00', 'lat': 48.8540917, 'lng': 2.3283745, 'id': 'paul.girard@sciencespo.fr'}}, {'data': {'end': '2017-06-14T15:36:29+02:00', 'name': 'delegue.general@adbu.fr', 'weight': 4.0, 'start': '2017-06-13T15:36:29+02:00', 'lat': 46.9464269, 'lng': 7.4360048, 'id': 'delegue.general@adbu.fr'}}, {'data': {'end': '2015-07-09T15:08:24+02:00', 'name': 'Enrico Natale', 'weight': 4.0, 'start': '2012-07-10T14:08:20+02:00', 'lat': 46.9464269, 'lng': 7.4360048, 'id': 'enrico.natale@infoclio.ch'}}, {'data': {'end': '2018-03-16T14:40:57+01:00', 'name': 'Marie-laure Massot', 'weight': 4.0, 'start': '2017-06-26T16:30:12+02:00', 'lat': 48.8422058, 'lng': 2.3451689, 'id': 'marie-laure.massot@ens.fr'}}, {'data': {'end': '2018-03-27T09:17:00+02:00', 'name': 'Thierry Poibeau', 'weight': 4.0, 'start': '2018-03-05T07:56:29+01:00', 'lat': 48.8422058, 'lng': 2.3451689, 'id': 'thierry.poibeau@ens.fr'}}, {'data': {'end': '2017-06-20T10:06:25+02:00', 'name': 'Jorge Fins', 'weight': 4.0, 'start': '2017-06-08T13:51:02+02:00', 'lat': 47.3838055, 'lng': 0.6738727999999999, 'id': 'jorge.fins@univ-tours.fr'}}, {'data': {'end': '2014-07-10T04:01:53-04:00', 'name': 'Michael Sinatra', 'weight': 4.0, 'start': '2014-07-09T04:01:53-04:00', 'lat': 46.9464269, 'lng': 7.4360048, 'id': 'michaelesinatra@gmail.com'}}, {'data': {'end': '2017-06-19T21:48:44+00:00', 'name': 'Olivier secardin', 'weight': 4.0, 'start': '2017-06-18T21:48:44+00:00', 'lat': 46.227638, 'lng': 2.213749, 'id': 'secardinolivier@yahoo.fr'}}, {'data': {'end': '2018-03-13T10:55:52+01:00', 'name': 'Francesco Beretta', 'weight': 4.0, 'start': '2018-03-12T09:52:19+01:00', 'lat': 45.74707309999999, 'lng': 4.835543599999999, 'id': 'francesco.beretta@ish-lyon.cnrs.fr'}}, {'data': {'end': '2018-03-03T11:55:28+01:00', 'name': 'Florence Andreacola', 'weight': 4.0, 'start': '2018-03-02T11:55:28+01:00', 'lat': 45.1914198, 'lng': 5.7672724, 'id': 'florence.andreacola@univ-grenoble-alpes.fr'}}, {'data': {'end': '2017-06-10T16:32:46+02:00', 'name': 'Gilles Pansu', 'weight': 4.0, 'start': '2017-06-09T16:32:46+02:00', 'lat': 46.9464269, 'lng': 7.4360048, 'id': 'gpansu@gmail.com'}}, {'data': {'end': '2018-03-14T18:57:33+01:00', 'name': 'jerome valluy', 'weight': 4.0, 'start': '2017-06-13T19:07:46+02:00', 'lat': 48.8469373, 'lng': 2.344468, 'id': 'jerome.valluy@univ-paris1.fr'}}, {'data': {'end': '2016-07-06T15:46:59+02:00', 'name': 'Formation continue ENC', 'weight': 4.0, 'start': '2016-07-05T15:46:59+02:00', 'lat': 48.8673191, 'lng': 2.3374701, 'id': 'formation.continue@enc-sorbonne.fr'}}, {'data': {'end': '2017-06-11T07:37:15+02:00', 'name': 'Jeanne Herzog', 'weight': 4.0, 'start': '2017-06-10T07:37:15+02:00', 'lat': 46.9464269, 'lng': 7.4360048, 'id': 'jea.herzog@gmail.com'}}, {'data': {'end': '2015-07-12T19:24:29+02:00', 'name': 'Emmanuelle Morlock', 'weight': 4.0, 'start': '2015-07-11T19:24:29+02:00', 'lat': 46.9464269, 'lng': 7.4360048, 'id': 'emmanuelle.morlock@gmail.com'}}, {'data': {'end': '2013-07-16T10:46:43+02:00', 'name': 'Nicolas Legrand', 'weight': 4.0, 'start': '2013-07-05T14:59:58+02:00', 'lat': 48.8358925, 'lng': 2.3365123, 'id': 'nicolas.legrand@obspm.fr'}}, {'data': {'end': '2017-06-09T15:40:03+02:00', 'name': 'St\\xc3\\xa9phane Loret', 'weight': 4.0, 'start': '2015-07-10T10:55:45+02:00', 'lat': 47.2095499, 'lng': -1.5559718, 'id': 'stephane.loret@univ-nantes.fr'}}, {'data': {'end': '2018-03-13T14:46:23+01:00', 'name': 'marc jahjah', 'weight': 4.0, 'start': '2018-03-12T14:46:23+01:00', 'lat': 46.9464269, 'lng': 7.4360048, 'id': 'jahjah.marc@gmail.com'}}, {'data': {'end': '2016-07-21T00:00:32+02:00', 'name': 'Isabelle Thiebau', 'weight': 4.0, 'start': '2016-07-06T18:52:24+02:00', 'lat': 50.63166, 'lng': 3.0751371, 'id': 'isabelle.thiebau@univ-lille2.fr'}}, {'data': {'end': '2018-03-14T14:20:26+02:00', 'name': 'Jouni Tuominen', 'weight': 4.0, 'start': '2018-03-13T14:20:26+02:00', 'lat': 46.9464269, 'lng': 7.4360048, 'id': 'jouni.tuominen@aalto.fi'}}, {'data': {'end': '2018-03-22T12:43:49+01:00', 'name': 'Rapha\\xc3\\xablle Bour', 'weight': 4.0, 'start': '2018-03-21T12:43:49+01:00', 'lat': 43.5617391, 'lng': 1.4680172, 'id': 'raphaelle.bour@irit.fr'}}, {'data': {'end': '2017-06-27T19:05:41+02:00', 'name': 'Florent Laroche', 'weight': 4.0, 'start': '2017-06-26T19:05:41+02:00', 'lat': 47.24806599999999, 'lng': -1.5501304, 'id': 'florent.laroche@ec-nantes.fr'}}, {'data': {'end': '2011-07-17T14:58:47+02:00', 'name': 'Marin Dacos', 'weight': 4.0, 'start': '2010-07-05T09:45:15+01:00', 'lat': 46.9464269, 'lng': 7.4360048, 'id': 'marin.dacos@revues.org'}}, {'data': {'end': '2018-03-13T14:59:27+01:00', 'name': 'St\\xc3\\xa9phane Pouyllau', 'weight': 4.0, 'start': '2013-07-05T10:46:22+02:00', 'lat': 48.850142, 'lng': 2.3269827, 'id': 'stephane.pouyllau@huma-num.fr'}}, {'data': {'end': '2018-03-10T14:10:27+01:00', 'name': 'Cecile Rodrigues', 'weight': 4.0, 'start': '2018-03-09T14:10:27+01:00', 'lat': 45.203453, 'lng': 5.700235999999999, 'id': 'cecile.rodrigues@cnrs.fr'}}, {'data': {'end': '2014-07-18T12:39:42+02:00', 'name': 'Equipe projet IGLouvre', 'weight': 4.0, 'start': '2014-07-17T12:39:42+02:00', 'lat': 46.9464269, 'lng': 7.4360048, 'id': 'projet.iglouvre@gmail.com'}}, {'data': {'end': '2018-03-22T14:11:14+00:00', 'name': 'Ren\\xc3\\xa9 Audet', 'weight': 4.0, 'start': '2018-03-21T14:11:14+00:00', 'lat': 46.78174629999999, 'lng': -71.2747424, 'id': 'Rene.Audet@lit.ulaval.ca'}}, {'data': {'end': '2018-03-10T13:52:33+01:00', 'name': 'Marjorie Burghart', 'weight': 4.0, 'start': '2013-07-05T01:35:31+02:00', 'lat': 48.850174, 'lng': 2.3268487, 'id': 'marjorie.burghart@ehess.fr'}}, {'data': {'end': '2017-06-10T15:47:07+02:00', 'name': 'Nicolas Larrousse', 'weight': 4.0, 'start': '2017-06-06T17:11:37+02:00', 'lat': 48.850142, 'lng': 2.3269827, 'id': 'Nicolas.Larrousse@huma-num.fr'}}, {'data': {'end': '2018-03-30T06:51:33+00:00', 'name': 'dumouchel suzanne', 'weight': 4.0, 'start': '2017-06-16T07:39:48+00:00', 'lat': 46.227638, 'lng': 2.213749, 'id': 'dumouchelsuzanne@yahoo.fr'}}, {'data': {'end': '2010-07-17T10:57:19+02:00', 'name': 'Muriel Foulonneau', 'weight': 4.0, 'start': '2010-07-16T10:57:19+02:00', 'lat': 46.9464269, 'lng': 7.4360048, 'id': 'muriel.foulonneau@gmail.com'}}, {'data': {'end': '2018-03-20T14:06:02+01:00', 'name': 'Martin Grandjean', 'weight': 4.0, 'start': '2016-07-06T16:01:43+02:00', 'lat': 46.5210895, 'lng': 6.5801606, 'id': 'martin.grandjean@unil.ch'}}, {'data': {'end': '2013-07-19T10:47:22+02:00', 'name': 'Antoine Blanchard', 'weight': 4.0, 'start': '2013-07-18T10:47:22+02:00', 'lat': 46.9464269, 'lng': 7.4360048, 'id': 'antoine.blanchard@gmail.com'}}, {'data': {'end': '2016-07-14T15:27:26+02:00', 'name': 'Sarah Cadorel', 'weight': 4.0, 'start': '2016-07-13T15:27:26+02:00', 'lat': 48.8540917, 'lng': 2.3283745, 'id': 'sarah.cadorel@sciencespo.fr'}}, {'data': {'end': '2018-03-29T16:43:54+02:00', 'name': 'Rails &amp; Histoire', 'weight': 4.0, 'start': '2013-07-18T10:20:44+02:00', 'lat': 46.9464269, 'lng': 7.4360048, 'id': 'listes@ahicf.com'}}, {'data': {'end': '2018-03-13T08:39:00+01:00', 'name': 'recherche.coordination@bnf.fr', 'weight': 4.0, 'start': '2018-03-12T08:39:00+01:00', 'lat': 48.8335842, 'lng': 2.3757659, 'id': 'recherche.coordination@bnf.fr'}}, {'data': {'end': '2017-06-29T08:20:32+00:00', 'name': 'beauguitte laurent', 'weight': 4.0, 'start': '2017-06-28T08:20:32+00:00', 'lat': 47.63937689999999, 'lng': -122.1282558, 'id': 'beauguittelaurent@hotmail.com'}}, {'data': {'end': '2018-03-07T14:57:59+01:00', 'name': 'Amel Fraisse', 'weight': 4.0, 'start': '2018-03-06T14:57:59+01:00', 'lat': 50.627577, 'lng': 3.126726, 'id': 'amel.fraisse@univ-lille3.fr'}}, {'data': {'end': '2017-06-15T14:57:17+02:00', 'name': 'Mareike Koenig', 'weight': 4.0, 'start': '2013-07-05T14:36:19+02:00', 'lat': 48.8586809, 'lng': 2.3635197, 'id': 'MKoenig@dhi-paris.fr'}}, {'data': {'end': '2013-07-10T08:45:06+01:00', 'name': 'Sandrine Breuil', 'weight': 4.0, 'start': '2013-07-09T08:45:06+01:00', 'lat': 47.3838055, 'lng': 0.6738727999999999, 'id': 'sandrine.breuil@univ-tours.fr'}}, {'data': {'end': '2017-06-10T11:29:03+02:00', 'name': 'Epron Beno\\xc3\\xaet', 'weight': 4.0, 'start': '2017-06-09T11:29:03+02:00', 'lat': 45.7801398, 'lng': 4.8625124, 'id': 'benoit.epron@enssib.fr'}}, {'data': {'end': '2018-03-27T19:12:16+02:00', 'name': 'G\\xc3\\xa9rald Kembellec', 'weight': 4.0, 'start': '2015-07-13T12:46:15+02:00', 'lat': 48.86674600000001, 'lng': 2.3554313, 'id': 'gerald.kembellec@cnam.fr'}}, {'data': {'end': '2013-07-03T14:15:54+02:00', 'name': 'Th\\xc3\\xa9ly Nicolas', 'weight': 4.0, 'start': '2013-07-02T14:15:54+02:00', 'lat': 48.1179154, 'lng': -1.7028658, 'id': 'nicolas.thely@univ-rennes2.fr'}}, {'data': {'end': '2017-06-27T17:04:56+02:00', 'name': 'Francoise Blum', 'weight': 4.0, 'start': '2017-06-26T17:04:56+02:00', 'lat': 48.8469373, 'lng': 2.344468, 'id': 'Francoise.Blum@univ-paris1.fr'}}, {'data': {'end': '2017-06-15T10:17:22+02:00', 'name': 'Pablo Ruiz', 'weight': 4.0, 'start': '2017-06-14T10:17:22+02:00', 'lat': 46.9464269, 'lng': 7.4360048, 'id': 'pabloruizfabo@gmail.com'}}, {'data': {'end': '2016-07-12T20:40:08+02:00', 'name': 'Caroline Muller', 'weight': 4.0, 'start': '2016-07-11T20:40:08+02:00', 'lat': 49.2559131, 'lng': 4.0408547, 'id': 'caroline.muller@univ-reims.fr'}}, {'data': {'end': '2018-03-08T15:44:01+01:00', 'name': 'Anne Gresillon', 'weight': 4.0, 'start': '2018-03-07T15:44:01+01:00', 'lat': 52.517883, 'lng': 13.3936551, 'id': 'gresillon@cmb.hu-berlin.de'}}, {'data': {'end': '2013-07-19T17:36:42+02:00', 'name': 'Ghislain SILLAUME', 'weight': 4.0, 'start': '2013-07-18T17:36:42+02:00', 'lat': 49.5432608, 'lng': 5.9262592, 'id': 'ghislain.sillaume@cvce.eu'}}, {'data': {'end': '2016-07-27T16:20:06+02:00', 'name': 'Elina Leblanc', 'weight': 4.0, 'start': '2016-07-26T16:20:06+02:00', 'lat': 46.9464269, 'lng': 7.4360048, 'id': 'elinaleblanc3007@gmail.com'}}, {'data': {'end': '2017-06-03T12:43:25+00:00', 'name': 'Jean-Baptiste CAMPS', 'weight': 4.0, 'start': '2017-06-02T12:43:25+00:00', 'lat': 47.63937689999999, 'lng': -122.1282558, 'id': 'jbcamps@hotmail.com'}}, {'data': {'end': '2017-06-20T19:07:45+02:00', 'name': 'Eric Guichard', 'weight': 4.0, 'start': '2013-07-10T15:56:42+02:00', 'lat': 45.7801398, 'lng': 4.8625124, 'id': 'Eric.Guichard@enssib.fr'}}, {'data': {'end': '2014-07-18T14:17:04+02:00', 'name': 'BRUNET Mich\\xc3\\xa8le', 'weight': 4.0, 'start': '2014-07-17T14:17:04+02:00', 'lat': 46.9464269, 'lng': 7.4360048, 'id': 'iglouvremb@gmail.com'}}, {'data': {'end': '2018-03-13T11:00:23+01:00', 'name': 'Georges-Xavier Blary', 'weight': 4.0, 'start': '2018-03-12T11:00:23+01:00', 'lat': 45.826307, 'lng': 1.258409, 'id': 'georges-xavier.blary@unilim.fr'}}, {'data': {'end': '2018-03-22T16:16:06+01:00', 'name': 'Laube Sylvain', 'weight': 4.0, 'start': '2014-07-25T22:53:36+02:00', 'lat': 48.3980356, 'lng': -4.5076415, 'id': 'sylvain.laube@univ-brest.fr'}}, {'data': {'end': '2018-03-21T13:59:42+01:00', 'name': 'Anne Baillot', 'weight': 4.0, 'start': '2015-07-26T16:15:52+02:00', 'lat': 46.9464269, 'lng': 7.4360048, 'id': 'anne.baillot@gmail.com'}}, {'data': {'end': '2011-07-20T15:04:42+01:00', 'name': 'Laetitia Bontemps', 'weight': 4.0, 'start': '2011-07-19T15:04:42+01:00', 'lat': 47.3838055, 'lng': 0.6738727999999999, 'id': 'laetitia.bontemps@univ-tours.fr'}}, {'data': {'end': '2015-07-17T00:22:43+02:00', 'name': 'Aur\\xc3\\xa9lie Olivesi', 'weight': 4.0, 'start': '2015-07-16T00:22:43+02:00', 'lat': 46.9464269, 'lng': 7.4360048, 'id': 'aurelie.olivesi@gmail.com'}}, {'data': {'end': '2014-07-11T05:14:24+02:00', 'name': 'Alexandre Monnin', 'weight': 4.0, 'start': '2012-07-17T07:17:09+02:00', 'lat': 46.9464269, 'lng': 7.4360048, 'id': 'aamonnz@gmail.com'}}, {'data': {'end': '2018-03-15T14:36:16+00:00', 'name': 'Epler, Jakob', 'weight': 4.0, 'start': '2018-03-14T14:36:16+00:00', 'lat': 50.5546212, 'lng': 6.7628843, 'id': 'jakob.epler@dariah.eu'}}, {'data': {'end': '2017-06-11T09:08:54+02:00', 'name': 'Sofia Papastamkou', 'weight': 4.0, 'start': '2015-07-13T17:08:22+02:00', 'lat': 46.8051945, 'lng': 1.6860012, 'id': 'stamkou@free.fr'}}, {'data': {'end': '2014-07-07T15:51:49+02:00', 'name': 'Soudan Cecile', 'weight': 4.0, 'start': '2014-07-06T15:51:49+02:00', 'lat': 48.850174, 'lng': 2.3268487, 'id': 'cecile.soudan@ehess.fr'}}, {'data': {'end': '2018-03-20T18:02:18+01:00', 'name': 'RAPHAELLE BRANGIER', 'weight': 4.0, 'start': '2018-03-19T18:02:18+01:00', 'lat': 49.4583047, 'lng': 1.0688892, 'id': 'raphaelle.krummeich@univ-rouen.fr'}}, {'data': {'end': '2018-03-03T15:36:05+01:00', 'name': 'florence.clavaud@free.fr', 'weight': 4.0, 'start': '2018-03-02T15:36:05+01:00', 'lat': 46.8051945, 'lng': 1.6860012, 'id': 'florence.clavaud@free.fr'}}, {'data': {'end': '2014-07-18T14:42:17+02:00', 'name': 'Cynthia Pedroja', 'weight': 4.0, 'start': '2014-07-17T14:42:17+02:00', 'lat': 50.638053, 'lng': 3.0712393, 'id': 'cynthia.pedroja@meshs.fr'}}, {'data': {'end': '2018-03-29T15:32:23+02:00', 'name': 'Elodie Faath', 'weight': 4.0, 'start': '2018-03-28T15:32:23+02:00', 'lat': 46.9464269, 'lng': 7.4360048, 'id': 'elodie.faath@openedition.org'}}, {'data': {'end': '2018-03-27T14:32:33+01:00', 'name': 'Olfa Lamloum', 'weight': 4.0, 'start': '2018-03-26T14:32:33+01:00', 'lat': 46.9464269, 'lng': 7.4360048, 'id': 'olfa.lamloum@gmail.com'}}, {'data': {'end': '2018-03-30T15:57:02+02:00', 'name': 'Seth van Hooland', 'weight': 4.0, 'start': '2018-03-02T11:01:59+01:00', 'lat': 50.8132068, 'lng': 4.3822222, 'id': 'svhoolan@ulb.ac.be'}}, {'data': {'end': '2017-06-08T14:12:09+02:00', 'name': 'Carmen Brando', 'weight': 4.0, 'start': '2017-06-07T14:12:09+02:00', 'lat': 46.9464269, 'lng': 7.4360048, 'id': 'carmen.brando@gmail.com'}}, {'data': {'end': '2018-03-13T15:18:57+01:00', 'name': 'ekergosien', 'weight': 4.0, 'start': '2017-06-17T13:52:49+02:00', 'lat': 50.627577, 'lng': 3.126726, 'id': 'eric.kergosien@univ-lille3.fr'}}, {'data': {'end': '2016-07-19T00:53:35+00:00', 'name': 'Elena Gonz\\xc3\\xa1lez-Blanco', 'weight': 4.0, 'start': '2015-07-07T23:20:18+00:00', 'lat': 46.9464269, 'lng': 7.4360048, 'id': 'elenagonzalezblanco@yahoo.es'}}, {'data': {'end': '2017-06-11T09:19:04+02:00', 'name': 'Clarisse Bardiot', 'weight': 4.0, 'start': '2017-06-07T13:19:02+02:00', 'lat': 37.3316756, 'lng': -122.030189, 'id': 'clarisse_bardiot@mac.com'}}, {'data': {'end': '2015-07-13T18:26:27+02:00', 'name': 'Manuel Zacklad', 'weight': 4.0, 'start': '2015-07-12T18:26:27+02:00', 'lat': 48.86674600000001, 'lng': 2.3554313, 'id': 'manuel.zacklad@cnam.fr'}}, {'data': {'end': '2012-07-25T17:45:29+02:00', 'name': 'jf.omhover@histographe.com', 'weight': 4.0, 'start': '2012-07-24T17:45:29+02:00', 'lat': 46.9464269, 'lng': 7.4360048, 'id': 'jf.omhover@histographe.com'}}, {'data': {'end': '2018-03-24T09:48:03+01:00', 'name': 'Aur\\xc3\\xa9lien Berra', 'weight': 4.0, 'start': '2013-07-05T14:14:20+02:00', 'lat': 46.9464269, 'lng': 7.4360048, 'id': 'aurelien.berra@gmail.com'}}, {'data': {'end': '2016-07-04T07:31:28+02:00', 'name': 'Mehdi Khamassi', 'weight': 4.0, 'start': '2016-07-03T07:31:28+02:00', 'lat': 48.8471036, 'lng': 2.357499, 'id': 'mehdi.khamassi@upmc.fr'}}, {'data': {'end': '2017-06-13T14:18:46+02:00', 'name': 'Nicolas Th\\xc3\\xa9ly', 'weight': 4.0, 'start': '2017-06-12T14:18:46+02:00', 'lat': 46.9464269, 'lng': 7.4360048, 'id': 'nicolasthelyrennes2@gmail.com'}}, {'data': {'end': '2017-06-07T17:17:31+02:00', 'name': 'Yosra Ghliss', 'weight': 4.0, 'start': '2017-06-06T17:17:31+02:00', 'lat': 46.9464269, 'lng': 7.4360048, 'id': 'yosra.ghliss17@gmail.com'}}, {'data': {'end': '2015-07-10T11:45:25+02:00', 'name': 'Sylvain Laurens', 'weight': 4.0, 'start': '2015-07-09T11:45:25+02:00', 'lat': 48.850174, 'lng': 2.3268487, 'id': 'laurens@ehess.fr'}}, {'data': {'end': '2017-06-17T06:45:25+00:00', 'name': 'Daniel Stoekl', 'weight': 4.0, 'start': '2017-06-16T06:45:25+00:00', 'lat': 48.8483803, 'lng': 2.3434592, 'id': 'Daniel.Stoekl@ephe.sorbonne.fr'}}, {'data': {'end': '2013-07-13T22:12:37+02:00', 'name': 'Javier Espejo Sur\\xc3\\xb3s', 'weight': 4.0, 'start': '2013-07-12T22:12:37+02:00', 'lat': 46.9464269, 'lng': 7.4360048, 'id': 'espejosuros.javier@gmail.com'}}, {'data': {'end': '2014-07-12T10:00:21+02:00', 'name': 'Enrica Salvatori', 'weight': 4.0, 'start': '2014-07-11T10:00:21+02:00', 'lat': 43.712207, 'lng': 10.405946, 'id': 'e.salvatori@mediev.unipi.it'}}, {'data': {'end': '2018-03-15T10:03:02+01:00', 'name': 'Claire Lemercier', 'weight': 4.0, 'start': '2018-03-14T10:03:02+01:00', 'lat': 48.8540917, 'lng': 2.3283745, 'id': 'claire.lemercier@sciencespo.fr'}}, {'data': {'end': '2014-07-17T20:28:39+02:00', 'name': 'Viera Rebolledo-Dhuin', 'weight': 4.0, 'start': '2014-07-16T20:28:39+02:00', 'lat': 46.8051945, 'lng': 1.6860012, 'id': 'viera.rebolledodhuin@free.fr'}}, {'data': {'end': '2016-07-07T18:55:47+02:00', 'name': 'G\\xc3\\xa9rald KEMBELLEC', 'weight': 4.0, 'start': '2016-07-06T18:55:47+02:00', 'lat': 46.9464269, 'lng': 7.4360048, 'id': 'gerald.kembellec@lecnam.net'}}, {'data': {'end': '2018-03-27T09:00:20+02:00', 'name': 'Joel Marchand', 'weight': 4.0, 'start': '2018-03-26T09:00:20+02:00', 'lat': 48.850142, 'lng': 2.3269827, 'id': 'joel.marchand@huma-num.fr'}}, {'data': {'end': '2018-03-24T17:23:21+01:00', 'name': 'Am\\xc3\\xa9lie VAIRELLES', 'weight': 4.0, 'start': '2018-03-23T17:23:21+01:00', 'lat': 48.8540917, 'lng': 2.3283745, 'id': 'amelie.vairelles@sciencespo.fr'}}, {'data': {'end': '2015-07-25T15:52:17+02:00', 'name': 'Marta Severo', 'weight': 4.0, 'start': '2015-07-24T15:52:17+02:00', 'lat': 46.9464269, 'lng': 7.4360048, 'id': 'martaseve@gmail.com'}}, {'data': {'end': '2015-07-31T09:59:31+00:00', 'name': 'CHADIER Christine', 'weight': 4.0, 'start': '2015-07-30T09:52:01+00:00', 'lat': 45.748149, 'lng': 4.860552999999999, 'id': 'christine.chadier@univ-lyon3.fr'}}, {'data': {'end': '2014-07-23T17:24:51+02:00', 'name': 'emmanuel guez', 'weight': 4.0, 'start': '2014-07-22T17:24:51+02:00', 'lat': 46.227638, 'lng': 2.213749, 'id': 'emmanuelguez@yahoo.fr'}}, {'data': {'end': '2017-06-27T20:54:38+00:00', 'name': 'Wandl-Vogt, Eveline', 'weight': 4.0, 'start': '2017-06-25T22:53:30+00:00', 'lat': 48.2088405, 'lng': 16.3771845, 'id': 'Eveline.Wandl-Vogt@oeaw.ac.at'}}, {'data': {'end': '2016-07-21T11:48:26+02:00', 'name': 'Cadiou Colette', 'weight': 4.0, 'start': '2016-07-20T11:48:26+02:00', 'lat': 45.76270969999999, 'lng': 3.1110909, 'id': 'colette.cadiou@irstea.fr'}}, {'data': {'end': '2012-07-27T18:39:41+02:00', 'name': 'stefanev', 'weight': 4.0, 'start': '2012-07-26T18:39:41+02:00', 'lat': 48.8961335, 'lng': 2.3812061, 'id': 'stefanev@club-internet.fr'}}, {'data': {'end': '2012-07-03T14:47:31+02:00', 'name': 'Emilien RUIZ', 'weight': 4.0, 'start': '2012-07-02T14:47:31+02:00', 'lat': 48.850174, 'lng': 2.3268487, 'id': 'emilien.ruiz@ehess.fr'}}, {'data': {'end': '2016-07-29T09:38:17+02:00', 'name': 'aude.da-cruz-lima', 'weight': 4.0, 'start': '2016-07-28T09:38:17+02:00', 'lat': 48.9041663, 'lng': 2.2098627, 'id': 'aude.da-cruz-lima@mae.u-paris10.fr'}}, {'data': {'end': '2018-03-27T12:32:35+02:00', 'name': 'dbernhard@unistra.fr', 'weight': 4.0, 'start': '2018-03-26T12:32:35+02:00', 'lat': 48.5790692, 'lng': 7.766454499999999, 'id': 'dbernhard@unistra.fr'}}, {'data': {'end': '2018-03-28T11:23:08+00:00', 'name': 'Fr\\xc3\\xa9d\\xc3\\xa9ric CLAVERT', 'weight': 4.0, 'start': '2018-03-12T11:53:38+00:00', 'lat': 46.9464269, 'lng': 7.4360048, 'id': 'frederic.clavert@uni.lu'}}, {'data': {'end': '2013-07-25T19:28:45+02:00', 'name': 'Alexandre Moatti', 'weight': 4.0, 'start': '2013-07-24T19:28:45+02:00', 'lat': 48.845585, 'lng': 2.339632, 'id': 'alexandre.moatti@mines.org'}}, {'data': {'end': '2013-07-27T15:37:16+02:00', 'name': 'Annaig Mahe', 'weight': 4.0, 'start': '2013-07-26T15:37:16+02:00', 'lat': 44.556284, 'lng': -0.248764, 'id': 'mahe.annaig@wanadoo.fr'}}, {'data': {'end': '2018-03-16T11:33:42+01:00', 'name': 'Serge Heiden', 'weight': 4.0, 'start': '2012-07-26T21:21:27+02:00', 'lat': 45.7298448, 'lng': 4.8285332, 'id': 'slh@ens-lyon.fr'}}, {'data': {'end': '2018-03-16T17:28:55', 'name': 'inatheque@ina.fr', 'weight': 4.0, 'start': '2018-03-15T17:28:55', 'lat': 48.8757828, 'lng': 2.3503673, 'id': 'inatheque@ina.fr'}}, {'data': {'end': '2018-03-22T10:33:06+01:00', 'name': 'Sandrine Cl\\xc3\\xa9risse', 'weight': 4.0, 'start': '2018-03-21T10:33:06+01:00', 'lat': 48.90339900000001, 'lng': 2.211274, 'id': 'sclerisse@parisnanterre.fr'}}, {'data': {'end': '2015-07-11T18:33:17+02:00', 'name': 'Emmanuelle Duwez', 'weight': 4.0, 'start': '2015-07-10T18:33:17+02:00', 'lat': 48.8540917, 'lng': 2.3283745, 'id': 'emmanuelle.duwez@sciencespo.fr'}}, {'data': {'end': '2016-07-20T10:46:36+02:00', 'name': 'Johann Holland', 'weight': 4.0, 'start': '2014-07-06T14:32:27+02:00', 'lat': 48.9081455, 'lng': 2.366589100000001, 'id': 'johann.holland@campus-condorcet.fr'}}, {'data': {'end': '2017-06-17T18:12:58+00:00', 'name': 'Paquien-S\\xc3\\xa9guy Fran\\xc3\\xa7oise\\t', 'weight': 4.0, 'start': '2017-06-09T08:05:48+00:00', 'lat': 45.7470623, 'lng': 4.8357091, 'id': 'francoise.paquienseguy@sciencespo-lyon.fr'}}, {'data': {'end': '2016-07-30T13:21:16+02:00', 'name': 'Claire Clivaz', 'weight': 4.0, 'start': '2016-07-20T16:54:26+02:00', 'lat': 46.1935479, 'lng': 17.0, 'id': 'claire.clivaz@sib.swiss'}}, {'data': {'end': '2017-06-03T12:36:14+02:00', 'name': 'Fran\\xc3\\xa7ois Th\\xc3\\xa9ron', 'weight': 4.0, 'start': '2017-06-02T12:36:14+02:00', 'lat': 48.799627, 'lng': 2.1415644, 'id': 'francois.theron@uvsq.fr'}}, {'data': {'end': '2018-03-30T10:23:54+00:00', 'name': 'CAVALLO Delphine', 'weight': 4.0, 'start': '2018-03-13T10:19:25+00:00', 'lat': 43.29362099999999, 'lng': 5.358066, 'id': 'delphine.cavallo@univ-amu.fr'}}, {'data': {'end': '2018-03-21T12:33:07+01:00', 'name': 'Elena Pierazzo', 'weight': 4.0, 'start': '2018-03-20T12:33:07+01:00', 'lat': 46.9464269, 'lng': 7.4360048, 'id': 'pierazzo@gmail.com'}}, {'data': {'end': '2018-03-16T09:12:21+01:00', 'name': 'IRIHS', 'weight': 4.0, 'start': '2018-03-15T09:12:21+01:00', 'lat': 49.4583047, 'lng': 1.0688892, 'id': 'irihs@univ-rouen.fr'}}, {'data': {'end': '2015-07-11T19:43:36+02:00', 'name': 'Pierre-Edouard Barrault', 'weight': 4.0, 'start': '2015-07-10T19:43:36+02:00', 'lat': 46.9464269, 'lng': 7.4360048, 'id': 'pe.barrault@gmail.com'}}, {'data': {'end': '2015-07-17T12:16:27+02:00', 'name': 'Elena Spadini', 'weight': 4.0, 'start': '2015-07-16T12:16:27+02:00', 'lat': 46.9464269, 'lng': 7.4360048, 'id': 'spadinielena@gmail.com'}}, {'data': {'end': '2018-03-16T20:45:58+01:00', 'name': 'Graham Ranger', 'weight': 4.0, 'start': '2018-03-15T20:45:58+01:00', 'lat': 43.9492289, 'lng': 4.8181272, 'id': 'graham.ranger@univ-avignon.fr'}}, {'data': {'end': '2018-03-17T08:05:59+00:00', 'name': 'Fran\\xc3\\xa7ois Bavaud', 'weight': 4.0, 'start': '2018-03-16T08:05:59+00:00', 'lat': 46.5210895, 'lng': 6.5801606, 'id': 'francois.bavaud@unil.ch'}}, {'data': {'end': '2018-03-07T11:48:01+01:00', 'name': 'Olivier Le Deuff', 'weight': 4.0, 'start': '2013-07-12T15:54:35+02:00', 'lat': 46.9464269, 'lng': 7.4360048, 'id': 'oledeuff@gmail.com'}}, {'data': {'end': '2015-07-04T10:17:19+00:00', 'name': 'Noiret, Serge', 'weight': 4.0, 'start': '2011-07-18T02:06:06-07:00', 'lat': 43.803079, 'lng': 11.282959, 'id': 'Serge.Noiret@EUI.eu'}}, {'data': {'end': '2018-03-02T14:03:55+00:00', 'name': 'Annael LE POULLENNEC', 'weight': 4.0, 'start': '2018-03-01T14:03:55+00:00', 'lat': 48.8864969, 'lng': 2.3130983, 'id': 'annael.le-poullennec@psl.eu'}}, {'data': {'end': '2018-03-13T19:23:47+01:00', 'name': 'lamasse', 'weight': 4.0, 'start': '2018-03-09T19:46:27+01:00', 'lat': 48.8469373, 'lng': 2.344468, 'id': 'stephane.lamasse@univ-paris1.fr'}}, {'data': {'end': '2011-07-08T15:59:17+02:00', 'name': 'Maud Ingarao', 'weight': 4.0, 'start': '2011-07-07T15:59:17+02:00', 'lat': 45.7298448, 'lng': 4.8285332, 'id': 'maud.ingarao@ens-lyon.fr'}}, {'data': {'end': '2016-07-29T19:24:03+02:00', 'name': 'Christine Michel', 'weight': 4.0, 'start': '2016-07-28T19:24:03+02:00', 'lat': 45.782938, 'lng': 4.878273, 'id': 'Christine.michel@insa-lyon.fr'}}, {'data': {'end': '2017-06-02T18:59:10+00:00', 'name': 'Vanessa Juloux', 'weight': 4.0, 'start': '2017-06-01T18:59:10+00:00', 'lat': 48.8483803, 'lng': 2.3434592, 'id': 'vanessa.juloux@ephe.sorbonne.fr'}}, {'data': {'end': '2015-07-03T14:10:25+02:00', 'name': 'marie-noelle.polino@ahicf.com', 'weight': 4.0, 'start': '2015-07-02T14:10:25+02:00', 'lat': 46.9464269, 'lng': 7.4360048, 'id': 'marie-noelle.polino@ahicf.com'}}, {'data': {'end': '2017-06-10T22:38:49+02:00', 'name': 'antoine Courtin', 'weight': 4.0, 'start': '2013-07-12T20:19:16+02:00', 'lat': 37.3316756, 'lng': -122.030189, 'id': 'antoine.courtin@mac.com'}}, {'data': {'end': '2017-06-10T10:25:58+02:00', 'name': 'marta materni', 'weight': 4.0, 'start': '2017-06-09T10:25:58+02:00', 'lat': 46.9464269, 'lng': 7.4360048, 'id': 'marta.materni@gmail.com'}}, {'data': {'end': '2018-03-14T07:55:52+01:00', 'name': 'Antonio Casilli', 'weight': 4.0, 'start': '2018-03-12T08:56:36+01:00', 'lat': 48.850174, 'lng': 2.3268487, 'id': 'antonio.casilli@ehess.fr'}}, {'data': {'end': '2017-06-22T12:12:42+02:00', 'name': 'R\\xc3\\xa9mi Jimenes', 'weight': 4.0, 'start': '2017-06-21T12:12:42+02:00', 'lat': 46.9464269, 'lng': 7.4360048, 'id': 'remi.jimenes@gmail.com'}}, {'data': {'end': '2013-07-06T12:13:22+02:00', 'name': 'Pierre Mounier', 'weight': 4.0, 'start': '2013-07-05T12:13:22+02:00', 'lat': 48.850174, 'lng': 2.3268487, 'id': 'pierre.mounier@ehess.fr'}}, {'data': {'end': '2015-07-06T09:38:43+02:00', 'name': 'arno.zucker@gmail.com', 'weight': 4.0, 'start': '2015-07-05T09:38:43+02:00', 'lat': 46.9464269, 'lng': 7.4360048, 'id': 'arno.zucker@gmail.com'}}, {'data': {'end': '2011-07-19T11:01:00+02:00', 'name': 'marionlame@gmail.com', 'weight': 4.0, 'start': '2011-07-18T11:01:00+02:00', 'lat': 46.9464269, 'lng': 7.4360048, 'id': 'marionlame@gmail.com'}}]\n"
     ]
    }
   ],
   "source": [
    "print my_nodesdictList"
   ]
  },
  {
   "cell_type": "code",
   "execution_count": 230,
   "metadata": {},
   "outputs": [
    {
     "name": "stderr",
     "output_type": "stream",
     "text": [
      "ERROR:topogram-client:500 - Error : A topogram with the same name already exists\n"
     ]
    },
    {
     "name": "stdout",
     "output_type": "stream",
     "text": [
      "Creating topogram 'alphaDH13'\n",
      "> Topogram already exists\n",
      "{u'status': u'success', 'status_code': 200, u'data': {u'sharedPublic': False, u'title': u'alphaDH13', u'userId': u'DaofbRenqYpqqNmtz', u'_id': u'FqnPxjm7bhSHmqCtL', u'slug': u'alphadh13', u'createdAt': u'2018-04-23T23:47:00.355Z'}, u'statusCode': 200}\n",
      "topogram ID : FqnPxjm7bhSHmqCtL\n",
      "{u'status': u'success', 'status_code': 200, u'data': [u'WHSzQY3R9oZdhkZ6N', u'rDEzfDZkaPZLRE7FK', u'qi4hKtdiGCDFPuBQe', u'JWocmcF4NN7cZBDFe', u'J65PXRognjYvj4D98', u'kAroSKxS3G6YDGFjJ', u'jp5An8Hhn3N9Dsmhm', u'3XyZxew5LyzGDkZQu', u'YgsZi7oR3zEgqAgjM', u'kmqfa5Qjt3iwQXjBE', u'aaPJ2FX4bWDeT2sNK', u'gtnfAZLTXtZhFQFvi', u'wiBLpeDJJDD46Xoea', u'iFaKSBeGjh83x8GJ9', u'wQ6jfnbfSSixXnM2a', u'7wryFbdiD72gbig8v', u'Ai66uBcaCbgxc7NPX', u'8A6j6uLSHfd7d3JL4', u'vxjbfLG2abxgnGDRt', u'mdwyMtjLBE7DCqbAo', u'v2mXt8v75qjaZwrvA', u'E4DKYZvHgfGbAHRmr', u'gWvL2aqPbqQxBx37c', u'zaE3fnNcEHruXbDxN', u'ivNTWCAPf8h73D6Qm', u'iPMJdyip6wQCXZokn', u'RbEftbuvXznQqYZmL', u'o53kWHY2JKB7wkoA4', u'abgcnABPGgB7qu9vL', u'ePNi8bfXvqEnuhYxL', u'kKEp6DWQGPyT9by37', u'XTCJnECZB3ZwEaXRW', u'9CjX7aRF5C4TdfnTW', u'bJ3LGFAiCJK2MKuBY', u'KmuCgr5f7j8zZMJ2u', u'FdD9B3yGZQCwYZZZg', u'LJH9qRG2LgGfCKQko', u'4dZAWBrZ5dwQJonhp', u'y5jwLZE3awREMKQxZ', u'5YK7SsnH47vcw94BJ', u'Jd79sXnATHg3tYf3j', u'gzAucBAqHJCS29YcN', u'HR8sHTK2KFPbfkGwJ', u'ritt5Ti4saZuCLmKM', u'yFzCy6mffnk5wZXBa', u'wmykkSpAP6XSoZQDD', u'uFHEp7MsnsP6BrCmK', u'34CQwwN2ppZJ9SwEp', u'hhj6nZLWGjP9Y9jDJ', u'qiMkg7MP6nKiJJ2Kr', u'saofX2yqfNjqkfQyp', u'zYrq4DYXc7RBcEj89', u'QWG7Pr7gm9Ts8LcqT', u'rtgrczCHsE6vEsADQ', u'XeCvJ6PJh6t52WfyN', u'puJhF5nXjY9HSSDzv', u'wEDCJjvLkCJ5tDqi9', u'3Sf94iRghMJgKtPQR', u'pvxTZ9kpMeYgcNL9f', u'cozqb7myQKoy258me', u'sMaezxNowM3WS4H9R', u'DLYk9SDjMtxorW2Zd', u'XK5hYrQyNJFfCS2bi', u'xdyTxTNyzapqm3jT5', u'PWCmYAxBFxLAWMfYF', u'bkP2ZQyDQdfWCdn59', u'W8byP8QXtFWxpJY6J', u'4AAcbkxjzCjRAtkpr', u'o6bvTWJMBvxLZoiJu', u'krYh4pxfqQj6H6pqY', u'm7HYE9pjjyQ5qtihL', u'Fb3DosGDXp99YFiNZ', u'TM2NnajsJxBQDesQk', u'D3kGefZ8w5FuDBi4G', u'5FaQyN2RMrotmxoB9', u'9oAdRBmMCxSXu3QL2', u'TQJmQZdbtTmsGXyZL', u'LnirDKBKCDHaeBFsL', u'ugxiwA6aPXsFgJ6Co', u'ABpeg3sDbCJ9HRyrj', u'CDbbdpNo5nTCJMCxo', u'HdLZ7D7AT2zSh8BMt', u'5gEHjeqEq7g3hAMo9', u'QBavjNtFap4QEHyyA', u'pn8nTnk9XLxEXRqyk', u'wwC9LQ9DXEqA4xx3v', u'qj5r64ERPHvsYNPS8', u'f5ycfXLcgh67cbZmn', u'zoZYft7ZLigrcmj9z', u'njEwBLT4Tw3nhRKGm', u'eRjuNCr35x85xndFu', u'Sh2s55rJLjmBuwkob', u'xyLaeh3uNBrBgvfNr', u'jxcQHix4FPzRPNSwf', u'9RbKmfvQv54LTAD3v', u'byCP5PYpQSRTWwCC4', u'FDPLE29YuHY2Nb7Fa', u'afQiinfjq9KiKmfqg', u'LpSBZ2NGChbqWusZZ', u'XezYAxhx72woS2TuN', u'iCDqwELdfJcfNTBpH', u'paDAshycasbYhHPcJ', u'gE4rRTWTQBymwtTMr', u'ETj9cbyvAtE2fSSv2', u'6kDnvbeJyvpvPow2Z', u'LrEvXb9wkQ39bo5jZ', u'agbafSuM8J86XLc3J', u'atQhyoejCHr4HGCxb', u'u4CixvDzmc3bPRv2r', u'YBMMaBLoYxf3psB9X', u'u5foamC3zawwt99SK', u'FtgXReZg68RkPERHF', u'besBe3WASMNfASGwW', u'noM9ZYkepNoGag89L', u'f8Y8bZtqtxF26nvd7', u'A3BNRtg39b62kzDar', u'vQeqJFYRFL6z4ndYP', u'2eg9WKivGepxRz6Zw', u'TKgCdHfzWKZW6CLHe', u'nF8bXCS4Nc2bqYkAk', u'Kv9aYkecS5Cnnbj8Z', u'enxXEmKWqf7Nki7pq', u'xFE2WWdSL3eYxxGvx', u'YXfDm3kwZjq9ySRoH', u'nnLEfzrsyftKAu6F3', u'DffuZ2CSQdfjaQpmz', u'uXmXPoRfXDJEZwzu5', u'z8PqX3ynHKGCjJTHh', u'bcZhnbWJ7cxTQeing', u'pJTJBxPem9nzPqDQJ', u'Z3dS4sGSrMrGrrQN9', u'wxYuSJZh4JBEiWQrR', u'BDo8aqup3wQyXN8F6', u'3Ck3ii4G2gAwniwnM', u'RLA5TC5qF3mSTxFPJ', u'RFc4i4MJiRQRkTqsz', u'XTiNsWy2pF78kRukf', u'xuxpoMxhksYG7qHar', u'ey99iWhgYnkmKJPib', u'DLNsN9YzT6jq455YS', u'e5LAMiFhcK34xHr92', u'Sibp8CaNzboK52otM', u'Dfj372g8CnFj7kuqL', u'6chXBpwoKp9kW278L', u'6P8ihFFST7dbkStZw', u'7SecYesNY5xquMW23', u'QTD2CnQXvM8KumXLn', u'yXTBfWKmmqCgX6SZu', u'NYsxXadFPDvcZWsJP', u'fQx2ThfRwfdPzPb88', u'YEjpwkCGLAryfmSrk', u'AY3242QBFsGJBK9Bk', u'2Kqen5srNTyC7Bj9i', u'Hp3aah9vPKaG6h7XH', u'eHwHwkQcetojXH2g3', u'zY47edgfWKLNA2acP', u'eGHR78TrH8cJtZE34', u'xzuQQHJmKGnZwbzh6', u'J3Bg6hmk6MZbj4Afm', u'NdNoNjrWfn7cqk2nc', u'iwnfbCNmqnRuzJwja', u'QBWaBzApJEpfiJ3G6', u'bb4yDNXuEtSJD6TpJ', u'eTMCQz67o7syyWCB2'], u'statusCode': 201}\n",
      "164 nodes created.\n",
      "368 edges created.\n",
      "done. Topogram has been updated. Check it at https://app.topogram.io/topograms/FqnPxjm7bhSHmqCtL\n"
     ]
    }
   ],
   "source": [
    "title = \"alphaDH13\"\n",
    "create_topogram(title, my_nodesdictList, my_edges)"
   ]
  },
  {
   "cell_type": "code",
   "execution_count": null,
   "metadata": {},
   "outputs": [],
   "source": []
  }
 ],
 "metadata": {
  "kernelspec": {
   "display_name": "Python 2",
   "language": "python",
   "name": "python2"
  },
  "language_info": {
   "codemirror_mode": {
    "name": "ipython",
    "version": 2
   },
   "file_extension": ".py",
   "mimetype": "text/x-python",
   "name": "python",
   "nbconvert_exporter": "python",
   "pygments_lexer": "ipython2",
   "version": "2.7.13"
  }
 },
 "nbformat": 4,
 "nbformat_minor": 2
}
