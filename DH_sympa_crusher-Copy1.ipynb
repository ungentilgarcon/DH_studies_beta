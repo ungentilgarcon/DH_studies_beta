{
 "cells": [
  {
   "cell_type": "code",
   "execution_count": 1,
   "metadata": {
    "collapsed": true
   },
   "outputs": [],
   "source": [
    "#some imports\n",
    "from bs4 import BeautifulSoup\n",
    "from dateutil import parser\n",
    "#from itertools import takewhile\n",
    "import lxml.html\n",
    "import urllib\n",
    "import re,os"
   ]
  },
  {
   "cell_type": "code",
   "execution_count": 2,
   "metadata": {
    "collapsed": true
   },
   "outputs": [],
   "source": [
    "def read_html_pages_in_dir(pages_dir):\n",
    "    bz=[]\n",
    "    #rootdir=\"./DHFR_sample/\"\n",
    "    for subdir, dirs, files in os.walk(pages_dir):\n",
    "\n",
    "        for file in files:\n",
    "         if file.endswith('.html') == True  and file != (\"index.html\"): \n",
    "            \n",
    "            # les index.html sont des recap, on pourrait les compter pour s'assurer du nombre de messages\n",
    "                \n",
    "                \n",
    "                by=[]\n",
    "                filename=os.path.join(subdir, file)\n",
    "                soup=BeautifulSoup(open(filename, 'r').read(),'lxml')#, 'html.parser') \n",
    "                #RECUPERER LES TITRES DES MESSAGES\n",
    "                \n",
    "                \n",
    "                for wrapper in soup.findAll('ul'):\n",
    "                    tomato = wrapper.find(string=re.compile(\": \\[DH\\]\"))\n",
    "                    tea = None\n",
    "                    if (wrapper.strong):\n",
    "                          #RECUPERER LES AUTeurs DES MESSAGES\n",
    "                        tea = wrapper.strong.parent\n",
    "                        \n",
    "                    \n",
    "                    #for tomato in wrapper.find_all('li', string=re.compile(\"DH\") ):\n",
    "                    \n",
    "                    \n",
    "                    if tomato is not None:\n",
    "                        if tea is not None:\n",
    "                        \n",
    "                            print tomato\n",
    "                            print \"TEA\",tea\n",
    "                            teapot =unicode(str(tea.text))\n",
    "                            teapot2= re.search(\"(?=From ).+?(?=<)\",teapot )\n",
    "                            print teapot\n",
    "                            print \"TEA2\",teapot2.group()\n",
    "                            \n",
    "                            \n",
    "                            break\n",
    "              \n",
    "                \n",
    "                #AFFICHAGE NOM DE FIChIER TRAITE\n",
    "                print os.path.join(subdir, file), \"\\n\"\n",
    "                print \"\\n _______________\\n\"\n",
    "                    #bz+=str(tomato.text.encode('utf-8'))\n",
    "        \n",
    "    return bz"
   ]
  },
  {
   "cell_type": "code",
   "execution_count": 3,
   "metadata": {},
   "outputs": [
    {
     "name": "stdout",
     "output_type": "stream",
     "text": [
      "./DHFRsample/2011-07/https_%a5%a5groupes.renater.fr%a5sympa%a5arc%a5dh%a52011-07%a5msg00001.html \n",
      "\n",
      "\n",
      " _______________\n",
      "\n",
      ": [DH] Un petit tour d'Allemagne des digital humanities  - 2 : Interview de Torsten Schaßan\n",
      "TEA <li><strong>From</strong>: Maud Ingarao &lt;\n",
      " <script type=\"text/javascript\">\n",
      " <!-- \n",
      " document.write(\"maud.ingarao\" + \"@\" + \"ens-lyon.fr\")\n",
      " // -->\n",
      " </script>&gt;</li>\n",
      "From: Maud Ingarao <\n",
      " \n",
      " <!-- \n",
      " document.write(\"maud.ingarao\" + \"@\" + \"ens-lyon.fr\")\n",
      " // -->\n",
      " >\n",
      "TEA2"
     ]
    },
    {
     "ename": "AttributeError",
     "evalue": "'NoneType' object has no attribute 'group'",
     "output_type": "error",
     "traceback": [
      "\u001b[0;31m---------------------------------------------------------------------------\u001b[0m",
      "\u001b[0;31mAttributeError\u001b[0m                            Traceback (most recent call last)",
      "\u001b[0;32m<ipython-input-3-2b7c2d6e403a>\u001b[0m in \u001b[0;36m<module>\u001b[0;34m()\u001b[0m\n\u001b[0;32m----> 1\u001b[0;31m \u001b[0msoup\u001b[0m\u001b[0;34m=\u001b[0m\u001b[0mread_html_pages_in_dir\u001b[0m\u001b[0;34m(\u001b[0m\u001b[0;34m\"./DHFRsample\"\u001b[0m\u001b[0;34m)\u001b[0m\u001b[0;34m\u001b[0m\u001b[0m\n\u001b[0m\u001b[1;32m      2\u001b[0m \u001b[0;34m\u001b[0m\u001b[0m\n\u001b[1;32m      3\u001b[0m \u001b[0;34m\u001b[0m\u001b[0m\n\u001b[1;32m      4\u001b[0m \u001b[0;34m\u001b[0m\u001b[0m\n\u001b[1;32m      5\u001b[0m \u001b[0;32mprint\u001b[0m \u001b[0msoup\u001b[0m\u001b[0;34m\u001b[0m\u001b[0m\n",
      "\u001b[0;32m<ipython-input-2-a6311bc4b8f8>\u001b[0m in \u001b[0;36mread_html_pages_in_dir\u001b[0;34m(pages_dir)\u001b[0m\n\u001b[1;32m     35\u001b[0m                             \u001b[0mteapot2\u001b[0m\u001b[0;34m=\u001b[0m \u001b[0mre\u001b[0m\u001b[0;34m.\u001b[0m\u001b[0msearch\u001b[0m\u001b[0;34m(\u001b[0m\u001b[0;34m\"(?=From ).+?(?=<)\"\u001b[0m\u001b[0;34m,\u001b[0m\u001b[0mteapot\u001b[0m \u001b[0;34m)\u001b[0m\u001b[0;34m\u001b[0m\u001b[0m\n\u001b[1;32m     36\u001b[0m                             \u001b[0;32mprint\u001b[0m \u001b[0mteapot\u001b[0m\u001b[0;34m\u001b[0m\u001b[0m\n\u001b[0;32m---> 37\u001b[0;31m                             \u001b[0;32mprint\u001b[0m \u001b[0;34m\"TEA2\"\u001b[0m\u001b[0;34m,\u001b[0m\u001b[0mteapot2\u001b[0m\u001b[0;34m.\u001b[0m\u001b[0mgroup\u001b[0m\u001b[0;34m(\u001b[0m\u001b[0;34m)\u001b[0m\u001b[0;34m\u001b[0m\u001b[0m\n\u001b[0m\u001b[1;32m     38\u001b[0m \u001b[0;34m\u001b[0m\u001b[0m\n\u001b[1;32m     39\u001b[0m \u001b[0;34m\u001b[0m\u001b[0m\n",
      "\u001b[0;31mAttributeError\u001b[0m: 'NoneType' object has no attribute 'group'"
     ]
    }
   ],
   "source": [
    "soup=read_html_pages_in_dir(\"./DHFRsample\")\n",
    "\n",
    " \n",
    "\n",
    "print soup"
   ]
  },
  {
   "cell_type": "code",
   "execution_count": null,
   "metadata": {
    "collapsed": true
   },
   "outputs": [],
   "source": []
  }
 ],
 "metadata": {
  "kernelspec": {
   "display_name": "Python 2",
   "language": "python",
   "name": "python2"
  },
  "language_info": {
   "codemirror_mode": {
    "name": "ipython",
    "version": 2
   },
   "file_extension": ".py",
   "mimetype": "text/x-python",
   "name": "python",
   "nbconvert_exporter": "python",
   "pygments_lexer": "ipython2",
   "version": "2.7.13"
  }
 },
 "nbformat": 4,
 "nbformat_minor": 2
}
