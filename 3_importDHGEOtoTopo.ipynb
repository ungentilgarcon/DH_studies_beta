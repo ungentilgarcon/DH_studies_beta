{
 "cells": [
  {
   "cell_type": "code",
   "execution_count": null,
   "metadata": {},
   "outputs": [],
   "source": []
  },
  {
   "cell_type": "code",
   "execution_count": 140,
   "metadata": {
    "collapsed": true
   },
   "outputs": [],
   "source": [
    "import pickle\n",
    "with open('my_edges.obj', 'rb') as handle:\n",
    "    my_edges = pickle.load(handle)\n",
    "\n",
    "with open('my_nodesdictList.obj', 'rb') as handle:\n",
    "    my_nodesdictList = pickle.load(handle)"
   ]
  },
  {
   "cell_type": "code",
   "execution_count": 141,
   "metadata": {},
   "outputs": [
    {
     "name": "stdout",
     "output_type": "stream",
     "text": [
      "7320\n",
      "[{'data': {'target': 'dh@groupes.renater.fr', 'weight': 4.0, 'source': 'florence.clavaud@free.fr', 'color': '#f5c0ae', 'notes': u\": [dh] offre d'emploi : ing\\xe9nieur d'\\xe9tudes, adjoint(e) au responsable de la mission r\\xe9f\\xe9rentiels des archives nationales\", 'start': '2017-08-16T11:10:12', 'id': u'../DHFR/groupes.renater.fr/sympa/arc/dh/2017-08/msg00007.html florence.clavaud@free.frdh@groupes.renater.fr0.185098089359'}}, {'data': {'target': 'dh@groupes.renater.fr', 'weight': 4.0, 'source': 'julien.gilet@gmail.com', 'color': '#f5c0ae', 'notes': u': [dh] unsubscribe', 'start': '2017-02-02T14:19:54', 'id': u'../DHFR/groupes.renater.fr/sympa/arc/dh/2017-02/msg00010.html julien.gilet@gmail.comdh@groupes.renater.fr0.733758266887'}}, {'data': {'target': 'dh@groupes.renater.fr', 'weight': 4.0, 'source': 'laurence.rageot@univ-tours.fr', 'color': '#f5c0ae', 'notes': u': [dh] msh val de loire - \"le \"syndrome steampunk\" : pour une refondation des digital humanities?\",  conf \\xe9rence de paul bertrand le 22 novembre 2012', 'start': '2012-11-09T08:52:12', 'id': u'../DHFR/groupes.renater.fr/sympa/arc/dh/2012-11/msg00005.html laurence.rageot@univ-tours.frdh@groupes.renater.fr0.249237775542'}}] \n",
      "\n",
      "[{'data': {'end': '2012-12-08T11:15:11+01:00', 'name': 'joerg wettlaufer', 'weight': 4.0, 'start': '2012-12-07T11:15:11+01:00', 'lat': 51.5632005, 'lng': 9.971094899999999, 'id': 'jwettla@gwdg.de'}}, {'data': {'end': '2018-03-02T15:19:10', 'name': 'vincent.puig@centrepompidou.fr', 'weight': 4.0, 'start': '2012-03-02T15:19:10', 'lat': 48.860642, 'lng': 2.352245, 'id': 'vincent.puig@centrepompidou.fr'}}, {'data': {'end': '2018-03-02T15:19:10', 'name': 'eda-liste@eric.univ-lyon2.fr', 'weight': 4.0, 'start': '2012-03-02T15:19:10', 'lat': 48.51391388966784, 'lng': -27.08189945653708, 'id': 'eda-liste@eric.univ-lyon2.fr'}}]\n"
     ]
    }
   ],
   "source": [
    "print len(my_edges)\n",
    "print my_edges[:3],\"\\n\"\n",
    "\n",
    "print my_nodesdictList[:3]"
   ]
  },
  {
   "cell_type": "code",
   "execution_count": 168,
   "metadata": {},
   "outputs": [
    {
     "name": "stdout",
     "output_type": "stream",
     "text": [
      "nb de edges:  7320\n",
      "[{'data': {'color': '#f5c0ae', 'source': 'florence.clavaud@free.fr', 'target': 'dh@groupes.renater.fr'}}, {'data': {'color': '#f5c0ae', 'source': 'julien.gilet@gmail.com', 'target': 'dh@groupes.renater.fr'}}, {'data': {'color': '#f5c0ae', 'source': 'laurence.rageot@univ-tours.fr', 'target': 'dh@groupes.renater.fr'}}]\n",
      "nb de messages:  3093\n",
      "[{'data': {'color': '#3de866', 'source': 'marion.gentilhomme@gis-cist.fr', 'target': 'dh@groupes.renater.fr', 'weight': 7.0}}, {'data': {'color': '#3de866', 'source': 'ledamansour@hotmail.com', 'target': 'dh@groupes.renater.fr', 'weight': 7.0}}, {'data': {'color': '#3de866', 'source': 'david.christoffel@gmail.com', 'target': 'dh@groupes.renater.fr', 'weight': 3.0}}]\n",
      "nb de messages traitant de géo:  88\n"
     ]
    }
   ],
   "source": [
    "#FIRST WE FILTER EDGES DEALING WITH GEO\n",
    "\n",
    "\n",
    "from functools import reduce\n",
    "\n",
    "#edges=map(lambda edge :{'data':{'source':edge['data']['source'],'target' :edge['data']['target'], 'color':edge['data']['color'],'weight':edge['data']['weight'],'start':edge['data']['start'] }},my_edges)\n",
    "edges=map(lambda edge :{'data':{'source':edge['data']['source'],'target' :edge['data']['target'], 'color':edge['data']['color'] }},my_edges)\n",
    "print \"nb de edges: \",len(edges)\n",
    "print edges[:3]\n",
    "\n",
    "MessagesUniques=filter(lambda edge : edge['data']['target']=='dh@groupes.renater.fr'  ,my_edges)\n",
    "\n",
    "NbMessagesUniques=len(MessagesUniques)\n",
    "print \"nb de messages: \",NbMessagesUniques\n",
    "print listoGeo[:3]\n",
    "\n",
    "MessagesUniquesGeo=filter(lambda edge : edge['data']['color'] == '#3de866' and edge['data']['target']=='dh@groupes.renater.fr'  ,edges)\n",
    "NbMessagesUniquesGeo= len(MessagesUniquesGeo)\n",
    "print \"nb de messages traitant de géo: \",NbMessagesUniquesGeo\n",
    "#print MessagesUniquesGeo[:1]"
   ]
  },
  {
   "cell_type": "code",
   "execution_count": 169,
   "metadata": {},
   "outputs": [
    {
     "name": "stdout",
     "output_type": "stream",
     "text": [
      "taux de messages Géos : 2.84513417394 %\n"
     ]
    }
   ],
   "source": [
    "print \"taux de messages Géos :\",float(NbMessagesUniquesGeo)/float(NbMessagesUniques)*100,\"%\" "
   ]
  },
  {
   "cell_type": "code",
   "execution_count": 170,
   "metadata": {},
   "outputs": [
    {
     "name": "stdout",
     "output_type": "stream",
     "text": [
      "['marion.gentilhomme@gis-cist.fr', 'ledamansour@hotmail.com', 'david.christoffel@gmail.com', 'corinne.welger@sfr.fr', 'frederic@clavert.net', 'michel.bernard@univ-paris3.fr', 'martin.grandjean@unil.ch', 'chloep84@gmail.com', 'eric.guichard@enssib.fr', 'julia.bonaccorsi@univ-lyon2.fr', 'jerome.valluy@univ-paris1.fr', 'bernard.jacquemin@univ-lille3.fr', 'slh@ens-lyon.fr', 'laurence.rageot@univ-tours.fr', 'f.hachezleroy@gmail.com', 'marin.dacos@openedition.org', 'elinaleblanc3007@gmail.com', 'reyman64@gmail.com', 'philippe.lepinard@u-pec.fr', 'gxblary@univ-paris1.fr', 'eric.kergosien@univ-lille3.fr', 'pascal.cristofoli@ehess.fr', 'eric.kergosien@univ-lille3.fr', 'gollivier@avignon.inra.fr', 'marion.gentilhomme@gis-cist.fr', 'b.loveluck@gmail.com', 'ijepr.conference@gmail.com', 'jerome.valluy@univ-paris1.fr', 'pierazzo@gmail.com', 'marion.gentilhomme@gis-cist.fr', 'stephane.lamasse@univ-paris1.fr', 'laure.brossin@gmail.com', 'christine.chadier@univ-lyon3.fr', 'pierre.colrat@orange.fr', 'nturenne.inra@yahoo.fr', 'annegf@college-de-france.fr', 'eric.guichard@enssib.fr', '4barbes@gmail.com', 'oledeuff@gmail.com', 'claire.lemercier@sciencespo.fr', 'marion.gentilhomme@gis-cist.fr', 'eric.kergosien@univ-lille3.fr', 'martaseve@gmail.com', 'sabine.loudcher@univ-lyon2.fr', 'frederic.chateigner@univ-tours.fr', 'francesca.frontini@univ-montp3.fr', 'claire.lemercier@sciencespo.fr', 'eric.guichard@enssib.fr', 'martaseve@gmail.com', 'robin.lamarche-perrin@lip6.fr', 'julia.bonaccorsi@univ-lyon2.fr', 'geomedia@gis-cist.fr', 'marjorie.burghart@ehess.fr', 'marin.dacos@openedition.org', 'laurence.rageot@univ-tours.fr', 'laurens@ehess.fr', 'moacir@nyu.edu', 'stephane.pouyllau@huma-num.fr', 'marjorie.burghart@ehess.fr', 'alain.marois@univ-lyon2.fr', 'thierry.poibeau@ens.fr', 'claire.lemercier@sciencespo.fr', 'johann.holland@campus-condorcet.fr', 'martaseve@gmail.com', 'afifa.zenati@ens-lyon.fr', 'homegnolia@gmail.com', 'anne-violaine.szabados@mae.u-paris10.fr', 'thierry.poibeau@ens.fr', 'antoine.blanchard@gmail.com', 'christophe.tuffery@inrap.fr', 'claire.clivaz@unil.ch', 'sgsinclair@gmail.com', 'charles.lenay@utc.fr', 'frederic.clavert@uni.lu', 'katell.briatte@culture.gouv.fr', 'christine.chadier@univ-lyon3.fr', 'christine.kosmopoulos@parisgeo.cnrs.fr', 'cybergeo@parisgeo.cnrs.fr', 'marin.dacos@openedition.org', 'daniel.stoekl@ephe.sorbonne.fr', 'listes@ahicf.com', 'stephane.pouyllau@corpus-ir.fr', 'anne-violaine.szabados@mae.u-paris10.fr', 'frederic@clavert.net', 'eric.kergosien@univ-lille3.fr', 'contact@digitalmethods-seminar.org', 'frederic@clavert.net', 'listes@ahicf.com']\n",
      "[{'data': {'end': '2016-01-28T14:35:39+01:00', 'name': 'christine kosmopoulos', 'weight': 4.0, 'start': '2013-10-14T13:09:57+02:00', 'lat': 48.8476037, 'lng': 2.2639934, 'id': 'christine.kosmopoulos@parisgeo.cnrs.fr'}}, {'data': {'end': '2018-03-27T09:17:00+02:00', 'name': 'thierry poibeau', 'weight': 4.0, 'start': '2017-07-23T11:09:51+01:00', 'lat': 48.8422058, 'lng': 2.3451689, 'id': 'thierry.poibeau@ens.fr'}}]\n"
     ]
    }
   ],
   "source": [
    "#THEN WE FILTER NODES CONCERNED BY EDGES\n",
    "listForNodesFiltering=map(lambda edge: edge['data']['source'],MessagesUniquesGeo)\n",
    "    \n",
    "print listForNodesFiltering\n",
    "listForNodesFiltering.append('dh@groupes.renater.fr')\n",
    "\n",
    "NodesGeo=filter( lambda node : node['data']['id'] in listForNodesFiltering, my_nodesdictList )\n",
    "\n",
    "print NodesGeo[:2]"
   ]
  },
  {
   "cell_type": "code",
   "execution_count": 172,
   "metadata": {},
   "outputs": [],
   "source": [
    "\n",
    "\n",
    "#WE HAVE TO TEST THE EDGES, BUT IT IS AN ARRAY OF DICTS,SO WE NEED TO FLATTEN THEM TO COUNT THEM SIMPLY\n",
    "\n",
    "import collections\n",
    "\n",
    "def flatten(d, parent_key='', sep='_'):\n",
    "    items = []\n",
    "    for k, v in d.items():\n",
    "        new_key = parent_key + sep + k if parent_key else k\n",
    "        if isinstance(v, collections.MutableMapping):\n",
    "            items.extend(flatten(v, new_key, sep=sep).items())\n",
    "        else:\n",
    "            items.append((new_key, v))\n",
    "    return dict(items)\n",
    "\n",
    "\n"
   ]
  },
  {
   "cell_type": "code",
   "execution_count": 173,
   "metadata": {},
   "outputs": [
    {
     "ename": "AttributeError",
     "evalue": "'list' object has no attribute 'items'",
     "output_type": "error",
     "traceback": [
      "\u001b[0;31m---------------------------------------------------------------------------\u001b[0m",
      "\u001b[0;31mAttributeError\u001b[0m                            Traceback (most recent call last)",
      "\u001b[0;32m<ipython-input-173-9f32d4a7ad6c>\u001b[0m in \u001b[0;36m<module>\u001b[0;34m()\u001b[0m\n\u001b[1;32m      1\u001b[0m \u001b[0;32mfrom\u001b[0m \u001b[0mcollections\u001b[0m \u001b[0;32mimport\u001b[0m \u001b[0mCounter\u001b[0m\u001b[0;34m\u001b[0m\u001b[0m\n\u001b[0;32m----> 2\u001b[0;31m \u001b[0mCREE\u001b[0m\u001b[0;34m=\u001b[0m \u001b[0mCounter\u001b[0m\u001b[0;34m(\u001b[0m\u001b[0mflatten\u001b[0m\u001b[0;34m(\u001b[0m\u001b[0mMessagesUniquesGeo\u001b[0m\u001b[0;34m)\u001b[0m\u001b[0;34m)\u001b[0m\u001b[0;34m.\u001b[0m\u001b[0miteritems\u001b[0m\u001b[0;34m(\u001b[0m\u001b[0;34m)\u001b[0m\u001b[0;34m\u001b[0m\u001b[0m\n\u001b[0m",
      "\u001b[0;32m<ipython-input-172-3d90bfddbe61>\u001b[0m in \u001b[0;36mflatten\u001b[0;34m(d, parent_key, sep)\u001b[0m\n\u001b[1;32m      7\u001b[0m \u001b[0;32mdef\u001b[0m \u001b[0mflatten\u001b[0m\u001b[0;34m(\u001b[0m\u001b[0md\u001b[0m\u001b[0;34m,\u001b[0m \u001b[0mparent_key\u001b[0m\u001b[0;34m=\u001b[0m\u001b[0;34m''\u001b[0m\u001b[0;34m,\u001b[0m \u001b[0msep\u001b[0m\u001b[0;34m=\u001b[0m\u001b[0;34m'_'\u001b[0m\u001b[0;34m)\u001b[0m\u001b[0;34m:\u001b[0m\u001b[0;34m\u001b[0m\u001b[0m\n\u001b[1;32m      8\u001b[0m     \u001b[0mitems\u001b[0m \u001b[0;34m=\u001b[0m \u001b[0;34m[\u001b[0m\u001b[0;34m]\u001b[0m\u001b[0;34m\u001b[0m\u001b[0m\n\u001b[0;32m----> 9\u001b[0;31m     \u001b[0;32mfor\u001b[0m \u001b[0mk\u001b[0m\u001b[0;34m,\u001b[0m \u001b[0mv\u001b[0m \u001b[0;32min\u001b[0m \u001b[0md\u001b[0m\u001b[0;34m.\u001b[0m\u001b[0mitems\u001b[0m\u001b[0;34m(\u001b[0m\u001b[0;34m)\u001b[0m\u001b[0;34m:\u001b[0m\u001b[0;34m\u001b[0m\u001b[0m\n\u001b[0m\u001b[1;32m     10\u001b[0m         \u001b[0mnew_key\u001b[0m \u001b[0;34m=\u001b[0m \u001b[0mparent_key\u001b[0m \u001b[0;34m+\u001b[0m \u001b[0msep\u001b[0m \u001b[0;34m+\u001b[0m \u001b[0mk\u001b[0m \u001b[0;32mif\u001b[0m \u001b[0mparent_key\u001b[0m \u001b[0;32melse\u001b[0m \u001b[0mk\u001b[0m\u001b[0;34m\u001b[0m\u001b[0m\n\u001b[1;32m     11\u001b[0m         \u001b[0;32mif\u001b[0m \u001b[0misinstance\u001b[0m\u001b[0;34m(\u001b[0m\u001b[0mv\u001b[0m\u001b[0;34m,\u001b[0m \u001b[0mcollections\u001b[0m\u001b[0;34m.\u001b[0m\u001b[0mMutableMapping\u001b[0m\u001b[0;34m)\u001b[0m\u001b[0;34m:\u001b[0m\u001b[0;34m\u001b[0m\u001b[0m\n",
      "\u001b[0;31mAttributeError\u001b[0m: 'list' object has no attribute 'items'"
     ]
    }
   ],
   "source": [
    "from collections import Counter\n",
    "CREE= Counter(flattenMessagesUniquesGeo).iteritems()\n"
   ]
  },
  {
   "cell_type": "code",
   "execution_count": null,
   "metadata": {},
   "outputs": [],
   "source": [
    "title = \"betaDH3singlevizOK\"\n",
    "create_topogram(title, my_nodesdictList, my_edges)"
   ]
  },
  {
   "cell_type": "code",
   "execution_count": 144,
   "metadata": {
    "collapsed": true
   },
   "outputs": [],
   "source": [
    "#!/usr/bin/env python\n",
    "# -*- coding: utf-8 -*-\n",
    "\n",
    "from topogram_client import TopogramAPIClient\n",
    "\n",
    "from csv import DictReader\n",
    "import os\n",
    "import json\n",
    "#import pymongo\n",
    "#import musicbrainzngs\n",
    "import arrow\n",
    "from datetime import datetime\n",
    "from pymongo import MongoClient\n",
    "from collections import defaultdict\n",
    "from dateutil import parser\n",
    "from datetime import timedelta"
   ]
  },
  {
   "cell_type": "code",
   "execution_count": null,
   "metadata": {},
   "outputs": [],
   "source": []
  },
  {
   "cell_type": "code",
   "execution_count": 145,
   "metadata": {
    "collapsed": true
   },
   "outputs": [],
   "source": [
    "def create_topogram(title, nodes, edges):\n",
    "\n",
    "    print \"Creating topogram '%s'\"%title\n",
    "\n",
    "    try :\n",
    "        r = topogram.create_topogram(title)\n",
    "    except ValueError:\n",
    "        print '> Topogram already exists'\n",
    "        r = topogram.get_topogram_by_name(title)\n",
    "    print r\n",
    "    topogram_ID = r[\"data\"][\"_id\"]\n",
    "    print \"topogram ID : %s\"%topogram_ID\n",
    "\n",
    "    # get and backup existing nodes and edges\n",
    "    existing_nodes = topogram.get_nodes(topogram_ID)[\"data\"]\n",
    "    existing_edges = topogram.get_edges(topogram_ID)[\"data\"]\n",
    "\n",
    "    # clear existing graph\n",
    "    if len(existing_nodes):\n",
    "        topogram.delete_nodes([n[\"_id\"] for n in existing_nodes])\n",
    "        print \"%s nodes deleted\"%len(existing_nodes)\n",
    "    if len(existing_edges):\n",
    "        topogram.delete_edges([n[\"_id\"] for n in existing_edges])\n",
    "        print \"%s edges deleted\"%len(existing_edges)\n",
    "\n",
    "    r = topogram.create_nodes(topogram_ID, nodes)\n",
    "    print r\n",
    "    print \"%s nodes created.\"%len(r[\"data\"])\n",
    "    r = topogram.create_edges(topogram_ID, edges)\n",
    "    print \"%s edges created.\"%len(r[\"data\"])\n",
    "\n",
    "    print \"done. Topogram has been updated. Check it at %s/topograms/%s\"%(TOPOGRAM_URL, topogram_ID)\n",
    "\n"
   ]
  },
  {
   "cell_type": "code",
   "execution_count": 148,
   "metadata": {},
   "outputs": [],
   "source": [
    "from datetime import timedelta\n",
    "import datetime\n",
    "# credentials\n",
    "TOPOGRAM_URL = \"http://localhost:3000\"\n",
    "USER = \"gregory.bahde@laposte.net\"\n",
    "PASSWORD = \"matrix\"\n",
    "\n",
    "# data\n",
    "title = \"DH_studies_map_Geotopics\"\n",
    "\n",
    "\n",
    "\n",
    "# date parsing\n",
    "DATETIME_FORMAT = '%Y-%m-%dT%H:%M:%S'\n",
    "DATETIME_FORMAT_FOR_MSBNZ ='%Y-%m-%d'\n",
    "\n",
    "\n"
   ]
  },
  {
   "cell_type": "code",
   "execution_count": 149,
   "metadata": {},
   "outputs": [
    {
     "name": "stderr",
     "output_type": "stream",
     "text": [
      "ERROR:topogram-client:403 Unauthorized request\n"
     ]
    },
    {
     "name": "stdout",
     "output_type": "stream",
     "text": [
      "> User has already been created.\n",
      "{u'status': u'success', 'status_code': 200, u'data': {u'authToken': u'iQbYiBBdN67eLy1QLGb8CnF5gAQlgWsYL9UdsGXHiCp', u'userId': u'BxRn4kp4WFL92jW8g'}}\n"
     ]
    }
   ],
   "source": [
    "# connect to the topogram instance (pass debug=True params for more info )\n",
    "topogram = TopogramAPIClient(TOPOGRAM_URL) #, debug=True)\n",
    "\n",
    "# create a new user\n",
    "try :\n",
    "    topogram.create_user(USER, PASSWORD)\n",
    "except ValueError:\n",
    "    print \"> User has already been created.\"\n",
    "\n",
    "# login a new user if needed\n",
    "resp_user_login = topogram.user_login(USER, PASSWORD)\n",
    "print resp_user_login\n",
    "\n",
    "assert(resp_user_login[\"status\"] == \"success\")\n",
    "assert(resp_user_login[\"status_code\"] == 200)"
   ]
  },
  {
   "cell_type": "code",
   "execution_count": 70,
   "metadata": {},
   "outputs": [],
   "source": [
    "TOPOGRAM_URL = \"http://localhost:3000\""
   ]
  },
  {
   "cell_type": "code",
   "execution_count": 80,
   "metadata": {},
   "outputs": [],
   "source": [
    "TOPOGRAM_URL = \"https://app.topogram.io\""
   ]
  },
  {
   "cell_type": "code",
   "execution_count": 166,
   "metadata": {},
   "outputs": [
    {
     "name": "stderr",
     "output_type": "stream",
     "text": [
      "ERROR:topogram-client:500 - Error : A topogram with the same name already exists\n"
     ]
    },
    {
     "name": "stdout",
     "output_type": "stream",
     "text": [
      "Creating topogram 'betaDH4singlevizGEO_OK'\n",
      "> Topogram already exists\n",
      "{u'status': u'success', 'status_code': 200, u'data': {u'sharedPublic': False, u'title': u'betaDH4singlevizGEO_OK', u'userId': u'BxRn4kp4WFL92jW8g', u'_id': u'JqCgmbRDL96caLxKZ', u'slug': u'betadh4singlevizgeo_ok', u'createdAt': u'2018-05-02T16:12:27.323Z'}, u'statusCode': 200}\n",
      "topogram ID : JqCgmbRDL96caLxKZ\n",
      "65 nodes deleted\n",
      "88 edges deleted\n",
      "{u'status': u'success', 'status_code': 200, u'data': [u'9tAM9ci6fccE7zwyu', u'AJXMveDca7KLAQefE', u'NijByXnEruxpLBE3u', u'KxBC6vaTZRATeoyLH', u'ZBYvHGCuBXiFL4Ro7', u't9cLiyQd6NBYvjSRJ', u'cQz8dwm2gA3E4QDdf', u'aeaj2ecqC9ff7yoXX', u'5BxdYwc9kD5SBZQ2y', u'qdcsETvbnXqEYZEcB', u'9nPCgQG7JRwvi8L5n', u'3RfrbvAewCJxGWkky', u'3krNsD5i5paRQ5Dxf', u'oJ9eQibGPRmzDKREw', u'AkKmfcDvkuoPzMeGM', u'uM84PrJv4FpFTf7Yc', u'aRa5xPRmeEMJZppst', u'sdj2XzAaNLjq29eEy', u'cK7SbX2QDRxoeqk8g', u'Tkdd4TWrTNPD7Q7Ey', u'RpnYvXEC43Kd8kypM', u'DEPNMqrWSNJYfLhNf', u'eukvXxHAHdTwG6KZm', u'uAzCAQbwgxjQLkMKP', u'mCC4TMBcAia7w3TZs', u'iruibKK4iTRSrQNtP', u'nCFm2qCMRGzhiQmKk', u'2jAYNjbDbCGnoGATr', u'MPv4v75JJeq2MovkA', u'QSmCLExbWnDeErHfc', u'XkBiqmGNNLXqTN7Ta', u'88wuB8qJtby7YJ9GT', u'X4X56CDETs2ysNMkD', u'kxGmRtm7HWjpNDguo', u'KwEynW6R5QzZPnqZM', u'gooiCP8rrisNhHsBL', u'CuMyvkFmpggGuyin7', u'Yjwk5fx4jodTa9XKy', u'sNDDALhDyqyr6H4Tm', u'ZvwYC2LzPCf7rmrws', u'tX4sM7tjazu2a68uv', u'sQ3T5BpoNCQam3MAe', u'C4QcmSny5FvNf2R8q', u'u532iyNzs7ZRJpjyA', u'jwG9JTf9YMo5MPR3i', u'z6W2ZqteSuN3jciw6', u'jo6ndmGHeTthDvPGJ', u'KdXMTGgASbh29oMYT', u'ki8NitD55GyPKfdYj', u'jDTBmcM62daKS7MD9', u'FBm4DWvxsH53fXwNA', u'Rypp9u4kTfwtpHMQG', u'g7ujXQtDzxCfrSWdj', u'JvSYNNEJGkEkzhqhf', u'CwkFkcPkvEMdsTNwz', u'DvpFj5LSbKzmmLMdJ', u'2WpmWvtJaYXnciuPM', u'iNy9WGv9L2FHZ8J66', u'43dsCiAaq4rxGGkWM', u'BCcFQjSgXwExEpMoq', u'Cv7qpa2sMvyjw8nLu', u'8PKgf5H4Zsn7c6w3u', u'KhtuxgxqtPKh6bC7f', u'7itSDCF2gQu3dqM9n', u'rTXQf7oYWoPW7HQPD'], u'statusCode': 201}\n",
      "65 nodes created.\n",
      "88 edges created.\n",
      "done. Topogram has been updated. Check it at http://localhost:3000/topograms/JqCgmbRDL96caLxKZ\n"
     ]
    }
   ],
   "source": [
    "title = \"betaDH4singlevizGEO_OK\"\n",
    "create_topogram(title, NodesGeo, MessagesUniquesGeo)"
   ]
  },
  {
   "cell_type": "code",
   "execution_count": null,
   "metadata": {},
   "outputs": [],
   "source": []
  }
 ],
 "metadata": {
  "kernelspec": {
   "display_name": "Python 2",
   "language": "python",
   "name": "python2"
  },
  "language_info": {
   "codemirror_mode": {
    "name": "ipython",
    "version": 2
   },
   "file_extension": ".py",
   "mimetype": "text/x-python",
   "name": "python",
   "nbconvert_exporter": "python",
   "pygments_lexer": "ipython2",
   "version": "2.7.14"
  }
 },
 "nbformat": 4,
 "nbformat_minor": 2
}
